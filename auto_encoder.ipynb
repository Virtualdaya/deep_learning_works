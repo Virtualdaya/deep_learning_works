{
 "cells": [
  {
   "cell_type": "markdown",
   "id": "Iz5_qnsHFH6j",
   "metadata": {
    "id": "Iz5_qnsHFH6j"
   },
   "source": [
    "### Importing Required Modules"
   ]
  },
  {
   "cell_type": "code",
   "execution_count": 1,
   "id": "814cd644-ada5-44ee-aa74-4cd08813590a",
   "metadata": {
    "colab": {
     "base_uri": "https://localhost:8080/",
     "height": 366
    },
    "id": "814cd644-ada5-44ee-aa74-4cd08813590a",
    "outputId": "ccd11117-3a0b-4400-ae03-24e913a14359"
   },
   "outputs": [],
   "source": [
    "import numpy as np\n",
    "import pandas as pd\n",
    "import matplotlib.pyplot as plt\n",
    "import seaborn as sns\n",
    "from sklearn.preprocessing import StandardScaler,MinMaxScaler\n",
    "from sklearn.model_selection import train_test_split\n",
    "from sklearn.metrics import r2_score\n",
    "import torch\n",
    "import torch.nn as nn\n",
    "from torch.utils.data import DataLoader, TensorDataset\n",
    "import torch.optim as optim\n",
    "import torchmetrics\n",
    "from torchmetrics.classification import ConfusionMatrix, Accuracy, Precision, Recall, F1Score"
   ]
  },
  {
   "cell_type": "code",
   "execution_count": 2,
   "id": "1e859932-74ec-431d-ace2-64c66fc2071e",
   "metadata": {
    "id": "1e859932-74ec-431d-ace2-64c66fc2071e"
   },
   "outputs": [
    {
     "data": {
      "text/plain": [
       "<torch._C.Generator at 0x2dc4e009c90>"
      ]
     },
     "execution_count": 2,
     "metadata": {},
     "output_type": "execute_result"
    }
   ],
   "source": [
    "np.random.seed(5)\n",
    "torch.manual_seed(5)"
   ]
  },
  {
   "cell_type": "markdown",
   "id": "w78tztHEFUTY",
   "metadata": {
    "id": "w78tztHEFUTY"
   },
   "source": [
    "### Importing Dataset"
   ]
  },
  {
   "cell_type": "code",
   "execution_count": 3,
   "id": "89078fdb-79a5-4e19-8084-e5c57608e2b0",
   "metadata": {
    "id": "89078fdb-79a5-4e19-8084-e5c57608e2b0"
   },
   "outputs": [],
   "source": [
    "df=pd.read_csv('synthetic_traffic_data_with_congestion.csv')"
   ]
  },
  {
   "cell_type": "code",
   "execution_count": 4,
   "id": "3a261968-daa1-473f-8371-c1473e44e20d",
   "metadata": {
    "id": "3a261968-daa1-473f-8371-c1473e44e20d"
   },
   "outputs": [
    {
     "data": {
      "text/html": [
       "<div>\n",
       "<style scoped>\n",
       "    .dataframe tbody tr th:only-of-type {\n",
       "        vertical-align: middle;\n",
       "    }\n",
       "\n",
       "    .dataframe tbody tr th {\n",
       "        vertical-align: top;\n",
       "    }\n",
       "\n",
       "    .dataframe thead th {\n",
       "        text-align: right;\n",
       "    }\n",
       "</style>\n",
       "<table border=\"1\" class=\"dataframe\">\n",
       "  <thead>\n",
       "    <tr style=\"text-align: right;\">\n",
       "      <th></th>\n",
       "      <th>Time</th>\n",
       "      <th>Traffic_Flow</th>\n",
       "      <th>Average_Speed</th>\n",
       "      <th>Occupancy</th>\n",
       "      <th>Temperature</th>\n",
       "      <th>Humidity</th>\n",
       "      <th>Wind_Speed</th>\n",
       "      <th>Precipitation</th>\n",
       "      <th>Visibility</th>\n",
       "      <th>Road_Condition</th>\n",
       "      <th>Traffic_Congestion</th>\n",
       "    </tr>\n",
       "  </thead>\n",
       "  <tbody>\n",
       "    <tr>\n",
       "      <th>0</th>\n",
       "      <td>2024-01-01 00:00:00</td>\n",
       "      <td>102.0</td>\n",
       "      <td>95.208871</td>\n",
       "      <td>71.489953</td>\n",
       "      <td>24.730232</td>\n",
       "      <td>6.641042</td>\n",
       "      <td>1.613307</td>\n",
       "      <td>4.843614</td>\n",
       "      <td>5.615359</td>\n",
       "      <td>Snowy</td>\n",
       "      <td>Low</td>\n",
       "    </tr>\n",
       "    <tr>\n",
       "      <th>1</th>\n",
       "      <td>2024-01-01 01:00:00</td>\n",
       "      <td>435.0</td>\n",
       "      <td>22.227414</td>\n",
       "      <td>57.897765</td>\n",
       "      <td>8.805837</td>\n",
       "      <td>17.086020</td>\n",
       "      <td>27.731161</td>\n",
       "      <td>6.546673</td>\n",
       "      <td>0.003330</td>\n",
       "      <td>Snowy</td>\n",
       "      <td>Medium</td>\n",
       "    </tr>\n",
       "    <tr>\n",
       "      <th>2</th>\n",
       "      <td>2024-01-01 02:00:00</td>\n",
       "      <td>860.0</td>\n",
       "      <td>110.130299</td>\n",
       "      <td>1.460900</td>\n",
       "      <td>23.678285</td>\n",
       "      <td>31.112068</td>\n",
       "      <td>19.851620</td>\n",
       "      <td>19.707152</td>\n",
       "      <td>1.142456</td>\n",
       "      <td>Wet</td>\n",
       "      <td>High</td>\n",
       "    </tr>\n",
       "    <tr>\n",
       "      <th>3</th>\n",
       "      <td>2024-01-01 03:00:00</td>\n",
       "      <td>270.0</td>\n",
       "      <td>50.943291</td>\n",
       "      <td>36.037549</td>\n",
       "      <td>33.260058</td>\n",
       "      <td>32.069929</td>\n",
       "      <td>26.598680</td>\n",
       "      <td>7.363360</td>\n",
       "      <td>3.751952</td>\n",
       "      <td>Dry</td>\n",
       "      <td>Low</td>\n",
       "    </tr>\n",
       "    <tr>\n",
       "      <th>4</th>\n",
       "      <td>2024-01-01 04:00:00</td>\n",
       "      <td>NaN</td>\n",
       "      <td>NaN</td>\n",
       "      <td>NaN</td>\n",
       "      <td>NaN</td>\n",
       "      <td>NaN</td>\n",
       "      <td>NaN</td>\n",
       "      <td>NaN</td>\n",
       "      <td>NaN</td>\n",
       "      <td>Snowy</td>\n",
       "      <td>Low</td>\n",
       "    </tr>\n",
       "  </tbody>\n",
       "</table>\n",
       "</div>"
      ],
      "text/plain": [
       "                  Time  Traffic_Flow  Average_Speed  Occupancy  Temperature  \\\n",
       "0  2024-01-01 00:00:00         102.0      95.208871  71.489953    24.730232   \n",
       "1  2024-01-01 01:00:00         435.0      22.227414  57.897765     8.805837   \n",
       "2  2024-01-01 02:00:00         860.0     110.130299   1.460900    23.678285   \n",
       "3  2024-01-01 03:00:00         270.0      50.943291  36.037549    33.260058   \n",
       "4  2024-01-01 04:00:00           NaN            NaN        NaN          NaN   \n",
       "\n",
       "    Humidity  Wind_Speed  Precipitation  Visibility Road_Condition  \\\n",
       "0   6.641042    1.613307       4.843614    5.615359          Snowy   \n",
       "1  17.086020   27.731161       6.546673    0.003330          Snowy   \n",
       "2  31.112068   19.851620      19.707152    1.142456            Wet   \n",
       "3  32.069929   26.598680       7.363360    3.751952            Dry   \n",
       "4        NaN         NaN            NaN         NaN          Snowy   \n",
       "\n",
       "  Traffic_Congestion  \n",
       "0                Low  \n",
       "1             Medium  \n",
       "2               High  \n",
       "3                Low  \n",
       "4                Low  "
      ]
     },
     "execution_count": 4,
     "metadata": {},
     "output_type": "execute_result"
    }
   ],
   "source": [
    "df.head()"
   ]
  },
  {
   "cell_type": "code",
   "execution_count": 5,
   "id": "f5edcdac-8ab0-45bb-ace3-74dde324d58c",
   "metadata": {
    "id": "f5edcdac-8ab0-45bb-ace3-74dde324d58c"
   },
   "outputs": [
    {
     "name": "stdout",
     "output_type": "stream",
     "text": [
      "<class 'pandas.core.frame.DataFrame'>\n",
      "RangeIndex: 3000 entries, 0 to 2999\n",
      "Data columns (total 11 columns):\n",
      " #   Column              Non-Null Count  Dtype  \n",
      "---  ------              --------------  -----  \n",
      " 0   Time                3000 non-null   object \n",
      " 1   Traffic_Flow        2700 non-null   float64\n",
      " 2   Average_Speed       2700 non-null   float64\n",
      " 3   Occupancy           2700 non-null   float64\n",
      " 4   Temperature         2700 non-null   float64\n",
      " 5   Humidity            2700 non-null   float64\n",
      " 6   Wind_Speed          2700 non-null   float64\n",
      " 7   Precipitation       2700 non-null   float64\n",
      " 8   Visibility          2700 non-null   float64\n",
      " 9   Road_Condition      2850 non-null   object \n",
      " 10  Traffic_Congestion  3000 non-null   object \n",
      "dtypes: float64(8), object(3)\n",
      "memory usage: 257.9+ KB\n"
     ]
    }
   ],
   "source": [
    "df.info()"
   ]
  },
  {
   "cell_type": "markdown",
   "id": "bn9C2qfGFkh-",
   "metadata": {
    "id": "bn9C2qfGFkh-"
   },
   "source": [
    "### Data Preprocessing and Feature Engineering"
   ]
  },
  {
   "cell_type": "code",
   "execution_count": 6,
   "id": "d6930e51-73c4-4090-8b25-4b6408a013e8",
   "metadata": {
    "id": "d6930e51-73c4-4090-8b25-4b6408a013e8"
   },
   "outputs": [],
   "source": [
    "null_counts = df.isnull().sum(axis=1)"
   ]
  },
  {
   "cell_type": "code",
   "execution_count": 7,
   "id": "617de47c-c83d-48a6-affa-0e4aeb5dac8a",
   "metadata": {
    "id": "617de47c-c83d-48a6-affa-0e4aeb5dac8a"
   },
   "outputs": [
    {
     "data": {
      "text/plain": [
       "(2700, 11)"
      ]
     },
     "execution_count": 7,
     "metadata": {},
     "output_type": "execute_result"
    }
   ],
   "source": [
    "df[null_counts<df.shape[1]/2].shape"
   ]
  },
  {
   "cell_type": "code",
   "execution_count": 8,
   "id": "e165e49c-4356-4bfe-a53c-a878864a03af",
   "metadata": {
    "id": "e165e49c-4356-4bfe-a53c-a878864a03af"
   },
   "outputs": [],
   "source": [
    "#Deleting rows which contains more than 50% null values in it\n",
    "df=df[null_counts<df.shape[1]/2]"
   ]
  },
  {
   "cell_type": "code",
   "execution_count": 9,
   "id": "b73fd439-f1d0-49b2-af7f-e8a5ce132420",
   "metadata": {
    "id": "b73fd439-f1d0-49b2-af7f-e8a5ce132420"
   },
   "outputs": [
    {
     "data": {
      "text/html": [
       "<div>\n",
       "<style scoped>\n",
       "    .dataframe tbody tr th:only-of-type {\n",
       "        vertical-align: middle;\n",
       "    }\n",
       "\n",
       "    .dataframe tbody tr th {\n",
       "        vertical-align: top;\n",
       "    }\n",
       "\n",
       "    .dataframe thead th {\n",
       "        text-align: right;\n",
       "    }\n",
       "</style>\n",
       "<table border=\"1\" class=\"dataframe\">\n",
       "  <thead>\n",
       "    <tr style=\"text-align: right;\">\n",
       "      <th></th>\n",
       "      <th>Time</th>\n",
       "      <th>Traffic_Flow</th>\n",
       "      <th>Average_Speed</th>\n",
       "      <th>Occupancy</th>\n",
       "      <th>Temperature</th>\n",
       "      <th>Humidity</th>\n",
       "      <th>Wind_Speed</th>\n",
       "      <th>Precipitation</th>\n",
       "      <th>Visibility</th>\n",
       "      <th>Road_Condition</th>\n",
       "      <th>Traffic_Congestion</th>\n",
       "    </tr>\n",
       "  </thead>\n",
       "  <tbody>\n",
       "    <tr>\n",
       "      <th>0</th>\n",
       "      <td>2024-01-01 00:00:00</td>\n",
       "      <td>102.0</td>\n",
       "      <td>95.208871</td>\n",
       "      <td>71.489953</td>\n",
       "      <td>24.730232</td>\n",
       "      <td>6.641042</td>\n",
       "      <td>1.613307</td>\n",
       "      <td>4.843614</td>\n",
       "      <td>5.615359</td>\n",
       "      <td>Snowy</td>\n",
       "      <td>Low</td>\n",
       "    </tr>\n",
       "    <tr>\n",
       "      <th>1</th>\n",
       "      <td>2024-01-01 01:00:00</td>\n",
       "      <td>435.0</td>\n",
       "      <td>22.227414</td>\n",
       "      <td>57.897765</td>\n",
       "      <td>8.805837</td>\n",
       "      <td>17.086020</td>\n",
       "      <td>27.731161</td>\n",
       "      <td>6.546673</td>\n",
       "      <td>0.003330</td>\n",
       "      <td>Snowy</td>\n",
       "      <td>Medium</td>\n",
       "    </tr>\n",
       "    <tr>\n",
       "      <th>2</th>\n",
       "      <td>2024-01-01 02:00:00</td>\n",
       "      <td>860.0</td>\n",
       "      <td>110.130299</td>\n",
       "      <td>1.460900</td>\n",
       "      <td>23.678285</td>\n",
       "      <td>31.112068</td>\n",
       "      <td>19.851620</td>\n",
       "      <td>19.707152</td>\n",
       "      <td>1.142456</td>\n",
       "      <td>Wet</td>\n",
       "      <td>High</td>\n",
       "    </tr>\n",
       "    <tr>\n",
       "      <th>3</th>\n",
       "      <td>2024-01-01 03:00:00</td>\n",
       "      <td>270.0</td>\n",
       "      <td>50.943291</td>\n",
       "      <td>36.037549</td>\n",
       "      <td>33.260058</td>\n",
       "      <td>32.069929</td>\n",
       "      <td>26.598680</td>\n",
       "      <td>7.363360</td>\n",
       "      <td>3.751952</td>\n",
       "      <td>Dry</td>\n",
       "      <td>Low</td>\n",
       "    </tr>\n",
       "    <tr>\n",
       "      <th>5</th>\n",
       "      <td>2024-01-01 05:00:00</td>\n",
       "      <td>71.0</td>\n",
       "      <td>97.889837</td>\n",
       "      <td>38.745130</td>\n",
       "      <td>0.729223</td>\n",
       "      <td>62.313292</td>\n",
       "      <td>3.938606</td>\n",
       "      <td>16.965885</td>\n",
       "      <td>1.335290</td>\n",
       "      <td>Dry</td>\n",
       "      <td>Low</td>\n",
       "    </tr>\n",
       "  </tbody>\n",
       "</table>\n",
       "</div>"
      ],
      "text/plain": [
       "                  Time  Traffic_Flow  Average_Speed  Occupancy  Temperature  \\\n",
       "0  2024-01-01 00:00:00         102.0      95.208871  71.489953    24.730232   \n",
       "1  2024-01-01 01:00:00         435.0      22.227414  57.897765     8.805837   \n",
       "2  2024-01-01 02:00:00         860.0     110.130299   1.460900    23.678285   \n",
       "3  2024-01-01 03:00:00         270.0      50.943291  36.037549    33.260058   \n",
       "5  2024-01-01 05:00:00          71.0      97.889837  38.745130     0.729223   \n",
       "\n",
       "    Humidity  Wind_Speed  Precipitation  Visibility Road_Condition  \\\n",
       "0   6.641042    1.613307       4.843614    5.615359          Snowy   \n",
       "1  17.086020   27.731161       6.546673    0.003330          Snowy   \n",
       "2  31.112068   19.851620      19.707152    1.142456            Wet   \n",
       "3  32.069929   26.598680       7.363360    3.751952            Dry   \n",
       "5  62.313292    3.938606      16.965885    1.335290            Dry   \n",
       "\n",
       "  Traffic_Congestion  \n",
       "0                Low  \n",
       "1             Medium  \n",
       "2               High  \n",
       "3                Low  \n",
       "5                Low  "
      ]
     },
     "execution_count": 9,
     "metadata": {},
     "output_type": "execute_result"
    }
   ],
   "source": [
    "df.head()"
   ]
  },
  {
   "cell_type": "code",
   "execution_count": 10,
   "id": "57f4b779-6fb9-4335-9a87-c364b27c6833",
   "metadata": {
    "id": "57f4b779-6fb9-4335-9a87-c364b27c6833"
   },
   "outputs": [],
   "source": [
    "target=df['Traffic_Congestion']"
   ]
  },
  {
   "cell_type": "code",
   "execution_count": 11,
   "id": "7bc95bfd-be65-4076-96b7-d976397c3efe",
   "metadata": {
    "id": "7bc95bfd-be65-4076-96b7-d976397c3efe"
   },
   "outputs": [
    {
     "data": {
      "text/plain": [
       "count     2700\n",
       "unique       3\n",
       "top       High\n",
       "freq       930\n",
       "Name: Traffic_Congestion, dtype: object"
      ]
     },
     "execution_count": 11,
     "metadata": {},
     "output_type": "execute_result"
    }
   ],
   "source": [
    "target.describe()"
   ]
  },
  {
   "cell_type": "code",
   "execution_count": 12,
   "id": "fbff91e2-46a1-491f-9e9f-101571f2a651",
   "metadata": {
    "id": "fbff91e2-46a1-491f-9e9f-101571f2a651"
   },
   "outputs": [],
   "source": [
    "# Imputing target column\n",
    "dit={'Low':0,'Medium':1,'High':2}"
   ]
  },
  {
   "cell_type": "code",
   "execution_count": 13,
   "id": "584cfb97-aff3-43c3-9e79-25b2885c18f1",
   "metadata": {
    "id": "584cfb97-aff3-43c3-9e79-25b2885c18f1"
   },
   "outputs": [],
   "source": [
    "target=target.map(dit)"
   ]
  },
  {
   "cell_type": "code",
   "execution_count": 14,
   "id": "8d680125-9092-49d6-8ae1-5b9157a8f069",
   "metadata": {
    "id": "8d680125-9092-49d6-8ae1-5b9157a8f069"
   },
   "outputs": [
    {
     "data": {
      "text/plain": [
       "(Traffic_Congestion\n",
       " 2    930\n",
       " 0    889\n",
       " 1    881\n",
       " Name: count, dtype: int64,\n",
       " dtype('int64'))"
      ]
     },
     "execution_count": 14,
     "metadata": {},
     "output_type": "execute_result"
    }
   ],
   "source": [
    "target.value_counts(),target.dtype"
   ]
  },
  {
   "cell_type": "code",
   "execution_count": 15,
   "id": "a9d086bd-b255-4206-a605-229c9c73bd51",
   "metadata": {
    "id": "a9d086bd-b255-4206-a605-229c9c73bd51"
   },
   "outputs": [],
   "source": [
    "df.drop(columns=['Traffic_Congestion'],inplace=True)"
   ]
  },
  {
   "cell_type": "code",
   "execution_count": 16,
   "id": "74f709fa-5b1a-4847-a500-acd93ac363c4",
   "metadata": {
    "id": "74f709fa-5b1a-4847-a500-acd93ac363c4"
   },
   "outputs": [
    {
     "name": "stdout",
     "output_type": "stream",
     "text": [
      "<class 'pandas.core.frame.DataFrame'>\n",
      "Index: 2700 entries, 0 to 2999\n",
      "Data columns (total 10 columns):\n",
      " #   Column          Non-Null Count  Dtype  \n",
      "---  ------          --------------  -----  \n",
      " 0   Time            2700 non-null   object \n",
      " 1   Traffic_Flow    2700 non-null   float64\n",
      " 2   Average_Speed   2700 non-null   float64\n",
      " 3   Occupancy       2700 non-null   float64\n",
      " 4   Temperature     2700 non-null   float64\n",
      " 5   Humidity        2700 non-null   float64\n",
      " 6   Wind_Speed      2700 non-null   float64\n",
      " 7   Precipitation   2700 non-null   float64\n",
      " 8   Visibility      2700 non-null   float64\n",
      " 9   Road_Condition  2568 non-null   object \n",
      "dtypes: float64(8), object(2)\n",
      "memory usage: 232.0+ KB\n"
     ]
    }
   ],
   "source": [
    "df.info()"
   ]
  },
  {
   "cell_type": "markdown",
   "id": "K7Dy8IagGV-X",
   "metadata": {
    "id": "K7Dy8IagGV-X"
   },
   "source": [
    "#### Handling Time Column"
   ]
  },
  {
   "cell_type": "code",
   "execution_count": 17,
   "id": "f5d5fe86-6ad4-49e2-b623-7a103cb2fd50",
   "metadata": {
    "id": "f5d5fe86-6ad4-49e2-b623-7a103cb2fd50"
   },
   "outputs": [
    {
     "data": {
      "text/plain": [
       "0"
      ]
     },
     "execution_count": 17,
     "metadata": {},
     "output_type": "execute_result"
    }
   ],
   "source": [
    "df.Time.isnull().sum()"
   ]
  },
  {
   "cell_type": "code",
   "execution_count": 18,
   "id": "060ca447-7656-46bf-8b75-abff7383d482",
   "metadata": {
    "id": "060ca447-7656-46bf-8b75-abff7383d482"
   },
   "outputs": [],
   "source": [
    "df['Time']=pd.to_datetime(df.Time)"
   ]
  },
  {
   "cell_type": "code",
   "execution_count": 19,
   "id": "6668123c-c3ce-41b6-9ca4-fe27e3b7f748",
   "metadata": {
    "id": "6668123c-c3ce-41b6-9ca4-fe27e3b7f748"
   },
   "outputs": [
    {
     "name": "stdout",
     "output_type": "stream",
     "text": [
      "<class 'pandas.core.series.Series'>\n",
      "Index: 2700 entries, 0 to 2999\n",
      "Series name: Time\n",
      "Non-Null Count  Dtype         \n",
      "--------------  -----         \n",
      "2700 non-null   datetime64[ns]\n",
      "dtypes: datetime64[ns](1)\n",
      "memory usage: 42.2 KB\n"
     ]
    }
   ],
   "source": [
    "df.Time.info()"
   ]
  },
  {
   "cell_type": "code",
   "execution_count": 20,
   "id": "1ad63035-dd92-434c-98f5-1a9408a1a28c",
   "metadata": {
    "id": "1ad63035-dd92-434c-98f5-1a9408a1a28c"
   },
   "outputs": [],
   "source": [
    "# creating year column\n",
    "df['year']=df.Time.dt.year"
   ]
  },
  {
   "cell_type": "code",
   "execution_count": 21,
   "id": "4e28af12-30d3-4f7a-af0e-47536d246d9c",
   "metadata": {
    "id": "4e28af12-30d3-4f7a-af0e-47536d246d9c"
   },
   "outputs": [
    {
     "data": {
      "text/plain": [
       "year\n",
       "2024    2700\n",
       "Name: count, dtype: int64"
      ]
     },
     "execution_count": 21,
     "metadata": {},
     "output_type": "execute_result"
    }
   ],
   "source": [
    "df['year'].value_counts()"
   ]
  },
  {
   "cell_type": "code",
   "execution_count": 22,
   "id": "d614f925-0d75-42db-9866-09bca08bbd11",
   "metadata": {
    "id": "d614f925-0d75-42db-9866-09bca08bbd11"
   },
   "outputs": [],
   "source": [
    "# deleting year column as it has only one value\n",
    "df.drop(columns=['year'],inplace=True)"
   ]
  },
  {
   "cell_type": "code",
   "execution_count": 23,
   "id": "3dfee698-ba60-45f6-9a3e-8ca96b25eca6",
   "metadata": {
    "id": "3dfee698-ba60-45f6-9a3e-8ca96b25eca6"
   },
   "outputs": [],
   "source": [
    "# creating month column\n",
    "df['month']=df.Time.dt.month_name()"
   ]
  },
  {
   "cell_type": "code",
   "execution_count": 24,
   "id": "6ce00359-516b-4147-b02d-19ca82f5c255",
   "metadata": {
    "id": "6ce00359-516b-4147-b02d-19ca82f5c255"
   },
   "outputs": [
    {
     "data": {
      "text/plain": [
       "month\n",
       "January     679\n",
       "March       667\n",
       "April       642\n",
       "February    628\n",
       "May          84\n",
       "Name: count, dtype: int64"
      ]
     },
     "execution_count": 24,
     "metadata": {},
     "output_type": "execute_result"
    }
   ],
   "source": [
    "df.month.value_counts()"
   ]
  },
  {
   "cell_type": "code",
   "execution_count": 25,
   "id": "d0e46218-6835-49af-8086-3976accc9d7a",
   "metadata": {
    "id": "d0e46218-6835-49af-8086-3976accc9d7a"
   },
   "outputs": [],
   "source": [
    "# creating day column\n",
    "df['day']=df.Time.dt.day_name()"
   ]
  },
  {
   "cell_type": "code",
   "execution_count": 26,
   "id": "b6af9adc-f497-4670-8f57-ecfabbe359cf",
   "metadata": {
    "id": "b6af9adc-f497-4670-8f57-ecfabbe359cf"
   },
   "outputs": [
    {
     "data": {
      "text/plain": [
       "day\n",
       "Tuesday      396\n",
       "Wednesday    393\n",
       "Saturday     387\n",
       "Monday       386\n",
       "Thursday     385\n",
       "Friday       382\n",
       "Sunday       371\n",
       "Name: count, dtype: int64"
      ]
     },
     "execution_count": 26,
     "metadata": {},
     "output_type": "execute_result"
    }
   ],
   "source": [
    "df.day.value_counts()"
   ]
  },
  {
   "cell_type": "code",
   "execution_count": 27,
   "id": "396a552f-2591-420b-9821-0e3302feaaa4",
   "metadata": {
    "id": "396a552f-2591-420b-9821-0e3302feaaa4"
   },
   "outputs": [],
   "source": [
    "# dropping time column after extracting useful info\n",
    "df.drop(columns='Time',inplace=True)"
   ]
  },
  {
   "cell_type": "markdown",
   "id": "4Cj_m8sLHQW3",
   "metadata": {
    "id": "4Cj_m8sLHQW3"
   },
   "source": [
    "#### Handling Road_Condition Column"
   ]
  },
  {
   "cell_type": "code",
   "execution_count": 28,
   "id": "28274dfd-7f43-48cf-bf3e-9a952c683a63",
   "metadata": {
    "id": "28274dfd-7f43-48cf-bf3e-9a952c683a63"
   },
   "outputs": [
    {
     "data": {
      "text/plain": [
       "Road_Condition\n",
       "Dry      676\n",
       "Snowy    664\n",
       "Icy      642\n",
       "Wet      586\n",
       "Name: count, dtype: int64"
      ]
     },
     "execution_count": 28,
     "metadata": {},
     "output_type": "execute_result"
    }
   ],
   "source": [
    "df.Road_Condition.value_counts()"
   ]
  },
  {
   "cell_type": "code",
   "execution_count": 29,
   "id": "04088891-c79f-4fa2-a288-7c22cd7dc6fa",
   "metadata": {
    "id": "04088891-c79f-4fa2-a288-7c22cd7dc6fa"
   },
   "outputs": [
    {
     "name": "stderr",
     "output_type": "stream",
     "text": [
      "C:\\Users\\anush\\AppData\\Local\\Temp\\ipykernel_16176\\1574599178.py:1: FutureWarning: A value is trying to be set on a copy of a DataFrame or Series through chained assignment using an inplace method.\n",
      "The behavior will change in pandas 3.0. This inplace method will never work because the intermediate object on which we are setting values always behaves as a copy.\n",
      "\n",
      "For example, when doing 'df[col].method(value, inplace=True)', try using 'df.method({col: value}, inplace=True)' or df[col] = df[col].method(value) instead, to perform the operation inplace on the original object.\n",
      "\n",
      "\n",
      "  df.Road_Condition.fillna('condition_unknown',inplace=True)\n"
     ]
    }
   ],
   "source": [
    "df.Road_Condition.fillna('condition_unknown',inplace=True)"
   ]
  },
  {
   "cell_type": "code",
   "execution_count": 30,
   "id": "b5443d36-dfc3-4eaf-889f-9159e4097e14",
   "metadata": {
    "id": "b5443d36-dfc3-4eaf-889f-9159e4097e14"
   },
   "outputs": [
    {
     "data": {
      "text/plain": [
       "Road_Condition\n",
       "Dry                  676\n",
       "Snowy                664\n",
       "Icy                  642\n",
       "Wet                  586\n",
       "condition_unknown    132\n",
       "Name: count, dtype: int64"
      ]
     },
     "execution_count": 30,
     "metadata": {},
     "output_type": "execute_result"
    }
   ],
   "source": [
    "df.Road_Condition.value_counts()"
   ]
  },
  {
   "cell_type": "markdown",
   "id": "sfm7qAMcHlyF",
   "metadata": {
    "id": "sfm7qAMcHlyF"
   },
   "source": [
    "### Checking Correlation"
   ]
  },
  {
   "cell_type": "code",
   "execution_count": 31,
   "id": "1f99402f-676e-4a1c-9ad5-5d8f99294438",
   "metadata": {
    "id": "1f99402f-676e-4a1c-9ad5-5d8f99294438"
   },
   "outputs": [
    {
     "data": {
      "image/png": "[encoded data removed]",
      "text/plain": [
       "<Figure size 1000x800 with 2 Axes>"
      ]
     },
     "metadata": {},
     "output_type": "display_data"
    }
   ],
   "source": [
    "plt.figure(figsize=(10,8))\n",
    "sns.heatmap(df.select_dtypes(include='number').corr(),annot=True)\n",
    "plt.show()"
   ]
  },
  {
   "cell_type": "markdown",
   "id": "rWsBqLMuHudC",
   "metadata": {
    "id": "rWsBqLMuHudC"
   },
   "source": [
    "### Checking Variance"
   ]
  },
  {
   "cell_type": "code",
   "execution_count": 32,
   "id": "a6492e00-380d-4c76-a6e9-cb43ff2529a8",
   "metadata": {
    "id": "a6492e00-380d-4c76-a6e9-cb43ff2529a8"
   },
   "outputs": [],
   "source": [
    "var=df.select_dtypes(include='number').var()"
   ]
  },
  {
   "cell_type": "code",
   "execution_count": 33,
   "id": "bc012c35-5e3d-4ac2-b03a-508aff41e619",
   "metadata": {
    "id": "bc012c35-5e3d-4ac2-b03a-508aff41e619"
   },
   "outputs": [
    {
     "data": {
      "text/plain": [
       "Traffic_Flow     86940.463474\n",
       "Average_Speed     1200.237086\n",
       "Occupancy          830.448185\n",
       "Temperature        167.037710\n",
       "Humidity           820.902043\n",
       "Wind_Speed          73.537841\n",
       "Precipitation       33.635100\n",
       "Visibility           8.366561\n",
       "dtype: float64"
      ]
     },
     "execution_count": 33,
     "metadata": {},
     "output_type": "execute_result"
    }
   ],
   "source": [
    "var"
   ]
  },
  {
   "cell_type": "markdown",
   "id": "szwkmhsRH5BQ",
   "metadata": {
    "id": "szwkmhsRH5BQ"
   },
   "source": [
    "### Checking Outliers"
   ]
  },
  {
   "cell_type": "code",
   "execution_count": 34,
   "id": "6d05de4f-b07d-4fde-9ff8-193daeed482e",
   "metadata": {
    "id": "6d05de4f-b07d-4fde-9ff8-193daeed482e"
   },
   "outputs": [
    {
     "data": {
      "image/png": "[encoded data removed]",
      "text/plain": [
       "<Figure size 1000x800 with 1 Axes>"
      ]
     },
     "metadata": {},
     "output_type": "display_data"
    }
   ],
   "source": [
    "plt.figure(figsize=(10,8))\n",
    "df.boxplot()\n",
    "plt.show()"
   ]
  },
  {
   "cell_type": "markdown",
   "id": "nWMKoPu-IiFR",
   "metadata": {
    "id": "nWMKoPu-IiFR"
   },
   "source": [
    "### One Hot Encoding and Standardization"
   ]
  },
  {
   "cell_type": "code",
   "execution_count": 35,
   "id": "07bbaf90-0e06-47cf-b9f3-264d97134e11",
   "metadata": {
    "id": "07bbaf90-0e06-47cf-b9f3-264d97134e11"
   },
   "outputs": [],
   "source": [
    "df_duplicated=pd.get_dummies(df).astype('float32')"
   ]
  },
  {
   "cell_type": "code",
   "execution_count": 36,
   "id": "d6545645-60a4-4644-954c-51e2b3e35cd1",
   "metadata": {
    "id": "d6545645-60a4-4644-954c-51e2b3e35cd1"
   },
   "outputs": [
    {
     "data": {
      "text/html": [
       "<div>\n",
       "<style scoped>\n",
       "    .dataframe tbody tr th:only-of-type {\n",
       "        vertical-align: middle;\n",
       "    }\n",
       "\n",
       "    .dataframe tbody tr th {\n",
       "        vertical-align: top;\n",
       "    }\n",
       "\n",
       "    .dataframe thead th {\n",
       "        text-align: right;\n",
       "    }\n",
       "</style>\n",
       "<table border=\"1\" class=\"dataframe\">\n",
       "  <thead>\n",
       "    <tr style=\"text-align: right;\">\n",
       "      <th></th>\n",
       "      <th>Traffic_Flow</th>\n",
       "      <th>Average_Speed</th>\n",
       "      <th>Occupancy</th>\n",
       "      <th>Temperature</th>\n",
       "      <th>Humidity</th>\n",
       "      <th>Wind_Speed</th>\n",
       "      <th>Precipitation</th>\n",
       "      <th>Visibility</th>\n",
       "      <th>Road_Condition_Dry</th>\n",
       "      <th>Road_Condition_Icy</th>\n",
       "      <th>...</th>\n",
       "      <th>month_January</th>\n",
       "      <th>month_March</th>\n",
       "      <th>month_May</th>\n",
       "      <th>day_Friday</th>\n",
       "      <th>day_Monday</th>\n",
       "      <th>day_Saturday</th>\n",
       "      <th>day_Sunday</th>\n",
       "      <th>day_Thursday</th>\n",
       "      <th>day_Tuesday</th>\n",
       "      <th>day_Wednesday</th>\n",
       "    </tr>\n",
       "  </thead>\n",
       "  <tbody>\n",
       "    <tr>\n",
       "      <th>0</th>\n",
       "      <td>102.0</td>\n",
       "      <td>95.208870</td>\n",
       "      <td>71.489952</td>\n",
       "      <td>24.730232</td>\n",
       "      <td>6.641042</td>\n",
       "      <td>1.613307</td>\n",
       "      <td>4.843615</td>\n",
       "      <td>5.615359</td>\n",
       "      <td>0.0</td>\n",
       "      <td>0.0</td>\n",
       "      <td>...</td>\n",
       "      <td>1.0</td>\n",
       "      <td>0.0</td>\n",
       "      <td>0.0</td>\n",
       "      <td>0.0</td>\n",
       "      <td>1.0</td>\n",
       "      <td>0.0</td>\n",
       "      <td>0.0</td>\n",
       "      <td>0.0</td>\n",
       "      <td>0.0</td>\n",
       "      <td>0.0</td>\n",
       "    </tr>\n",
       "    <tr>\n",
       "      <th>1</th>\n",
       "      <td>435.0</td>\n",
       "      <td>22.227413</td>\n",
       "      <td>57.897766</td>\n",
       "      <td>8.805837</td>\n",
       "      <td>17.086020</td>\n",
       "      <td>27.731161</td>\n",
       "      <td>6.546672</td>\n",
       "      <td>0.003330</td>\n",
       "      <td>0.0</td>\n",
       "      <td>0.0</td>\n",
       "      <td>...</td>\n",
       "      <td>1.0</td>\n",
       "      <td>0.0</td>\n",
       "      <td>0.0</td>\n",
       "      <td>0.0</td>\n",
       "      <td>1.0</td>\n",
       "      <td>0.0</td>\n",
       "      <td>0.0</td>\n",
       "      <td>0.0</td>\n",
       "      <td>0.0</td>\n",
       "      <td>0.0</td>\n",
       "    </tr>\n",
       "    <tr>\n",
       "      <th>2</th>\n",
       "      <td>860.0</td>\n",
       "      <td>110.130302</td>\n",
       "      <td>1.460900</td>\n",
       "      <td>23.678286</td>\n",
       "      <td>31.112068</td>\n",
       "      <td>19.851620</td>\n",
       "      <td>19.707151</td>\n",
       "      <td>1.142456</td>\n",
       "      <td>0.0</td>\n",
       "      <td>0.0</td>\n",
       "      <td>...</td>\n",
       "      <td>1.0</td>\n",
       "      <td>0.0</td>\n",
       "      <td>0.0</td>\n",
       "      <td>0.0</td>\n",
       "      <td>1.0</td>\n",
       "      <td>0.0</td>\n",
       "      <td>0.0</td>\n",
       "      <td>0.0</td>\n",
       "      <td>0.0</td>\n",
       "      <td>0.0</td>\n",
       "    </tr>\n",
       "    <tr>\n",
       "      <th>3</th>\n",
       "      <td>270.0</td>\n",
       "      <td>50.943291</td>\n",
       "      <td>36.037548</td>\n",
       "      <td>33.260059</td>\n",
       "      <td>32.069927</td>\n",
       "      <td>26.598679</td>\n",
       "      <td>7.363360</td>\n",
       "      <td>3.751952</td>\n",
       "      <td>1.0</td>\n",
       "      <td>0.0</td>\n",
       "      <td>...</td>\n",
       "      <td>1.0</td>\n",
       "      <td>0.0</td>\n",
       "      <td>0.0</td>\n",
       "      <td>0.0</td>\n",
       "      <td>1.0</td>\n",
       "      <td>0.0</td>\n",
       "      <td>0.0</td>\n",
       "      <td>0.0</td>\n",
       "      <td>0.0</td>\n",
       "      <td>0.0</td>\n",
       "    </tr>\n",
       "    <tr>\n",
       "      <th>5</th>\n",
       "      <td>71.0</td>\n",
       "      <td>97.889839</td>\n",
       "      <td>38.745129</td>\n",
       "      <td>0.729223</td>\n",
       "      <td>62.313293</td>\n",
       "      <td>3.938606</td>\n",
       "      <td>16.965885</td>\n",
       "      <td>1.335290</td>\n",
       "      <td>1.0</td>\n",
       "      <td>0.0</td>\n",
       "      <td>...</td>\n",
       "      <td>1.0</td>\n",
       "      <td>0.0</td>\n",
       "      <td>0.0</td>\n",
       "      <td>0.0</td>\n",
       "      <td>1.0</td>\n",
       "      <td>0.0</td>\n",
       "      <td>0.0</td>\n",
       "      <td>0.0</td>\n",
       "      <td>0.0</td>\n",
       "      <td>0.0</td>\n",
       "    </tr>\n",
       "  </tbody>\n",
       "</table>\n",
       "<p>5 rows × 25 columns</p>\n",
       "</div>"
      ],
      "text/plain": [
       "   Traffic_Flow  Average_Speed  Occupancy  Temperature   Humidity  Wind_Speed  \\\n",
       "0         102.0      95.208870  71.489952    24.730232   6.641042    1.613307   \n",
       "1         435.0      22.227413  57.897766     8.805837  17.086020   27.731161   \n",
       "2         860.0     110.130302   1.460900    23.678286  31.112068   19.851620   \n",
       "3         270.0      50.943291  36.037548    33.260059  32.069927   26.598679   \n",
       "5          71.0      97.889839  38.745129     0.729223  62.313293    3.938606   \n",
       "\n",
       "   Precipitation  Visibility  Road_Condition_Dry  Road_Condition_Icy  ...  \\\n",
       "0       4.843615    5.615359                 0.0                 0.0  ...   \n",
       "1       6.546672    0.003330                 0.0                 0.0  ...   \n",
       "2      19.707151    1.142456                 0.0                 0.0  ...   \n",
       "3       7.363360    3.751952                 1.0                 0.0  ...   \n",
       "5      16.965885    1.335290                 1.0                 0.0  ...   \n",
       "\n",
       "   month_January  month_March  month_May  day_Friday  day_Monday  \\\n",
       "0            1.0          0.0        0.0         0.0         1.0   \n",
       "1            1.0          0.0        0.0         0.0         1.0   \n",
       "2            1.0          0.0        0.0         0.0         1.0   \n",
       "3            1.0          0.0        0.0         0.0         1.0   \n",
       "5            1.0          0.0        0.0         0.0         1.0   \n",
       "\n",
       "   day_Saturday  day_Sunday  day_Thursday  day_Tuesday  day_Wednesday  \n",
       "0           0.0         0.0           0.0          0.0            0.0  \n",
       "1           0.0         0.0           0.0          0.0            0.0  \n",
       "2           0.0         0.0           0.0          0.0            0.0  \n",
       "3           0.0         0.0           0.0          0.0            0.0  \n",
       "5           0.0         0.0           0.0          0.0            0.0  \n",
       "\n",
       "[5 rows x 25 columns]"
      ]
     },
     "execution_count": 36,
     "metadata": {},
     "output_type": "execute_result"
    }
   ],
   "source": [
    "df_duplicated.head()"
   ]
  },
  {
   "cell_type": "code",
   "execution_count": 37,
   "id": "5f9267ea-d0bc-4a00-959e-206759624453",
   "metadata": {
    "id": "5f9267ea-d0bc-4a00-959e-206759624453"
   },
   "outputs": [],
   "source": [
    "#Splitting Data\n",
    "X_train, X_test,y_train,y_test = train_test_split(df_duplicated,target, test_size=0.2, random_state=42)"
   ]
  },
  {
   "cell_type": "code",
   "execution_count": 38,
   "id": "34992485-f3ee-4aaa-81d9-a94abd38de36",
   "metadata": {
    "id": "34992485-f3ee-4aaa-81d9-a94abd38de36"
   },
   "outputs": [],
   "source": [
    "X_train.reset_index(drop=True,inplace=True)"
   ]
  },
  {
   "cell_type": "code",
   "execution_count": 39,
   "id": "e27cf158-5c8a-4df6-9340-6bbcfd9ee717",
   "metadata": {
    "id": "e27cf158-5c8a-4df6-9340-6bbcfd9ee717"
   },
   "outputs": [],
   "source": [
    "X_test.reset_index(drop=True,inplace=True)"
   ]
  },
  {
   "cell_type": "code",
   "execution_count": 40,
   "id": "81946dd6-6316-462e-93e5-5c33f8c4ae89",
   "metadata": {
    "id": "81946dd6-6316-462e-93e5-5c33f8c4ae89"
   },
   "outputs": [],
   "source": [
    "y_train.reset_index(drop=True,inplace=True)"
   ]
  },
  {
   "cell_type": "code",
   "execution_count": 41,
   "id": "fb0aa17f-173b-4c55-992b-ee34d620ec53",
   "metadata": {
    "id": "fb0aa17f-173b-4c55-992b-ee34d620ec53"
   },
   "outputs": [],
   "source": [
    "y_test.reset_index(drop=True,inplace=True)"
   ]
  },
  {
   "cell_type": "code",
   "execution_count": 42,
   "id": "17957724-0ddc-48e7-9a58-af2d4f2c7528",
   "metadata": {
    "id": "17957724-0ddc-48e7-9a58-af2d4f2c7528"
   },
   "outputs": [
    {
     "data": {
      "text/html": [
       "<div>\n",
       "<style scoped>\n",
       "    .dataframe tbody tr th:only-of-type {\n",
       "        vertical-align: middle;\n",
       "    }\n",
       "\n",
       "    .dataframe tbody tr th {\n",
       "        vertical-align: top;\n",
       "    }\n",
       "\n",
       "    .dataframe thead th {\n",
       "        text-align: right;\n",
       "    }\n",
       "</style>\n",
       "<table border=\"1\" class=\"dataframe\">\n",
       "  <thead>\n",
       "    <tr style=\"text-align: right;\">\n",
       "      <th></th>\n",
       "      <th>Traffic_Flow</th>\n",
       "      <th>Average_Speed</th>\n",
       "      <th>Occupancy</th>\n",
       "      <th>Temperature</th>\n",
       "      <th>Humidity</th>\n",
       "      <th>Wind_Speed</th>\n",
       "      <th>Precipitation</th>\n",
       "      <th>Visibility</th>\n",
       "      <th>Road_Condition_Dry</th>\n",
       "      <th>Road_Condition_Icy</th>\n",
       "      <th>...</th>\n",
       "      <th>month_January</th>\n",
       "      <th>month_March</th>\n",
       "      <th>month_May</th>\n",
       "      <th>day_Friday</th>\n",
       "      <th>day_Monday</th>\n",
       "      <th>day_Saturday</th>\n",
       "      <th>day_Sunday</th>\n",
       "      <th>day_Thursday</th>\n",
       "      <th>day_Tuesday</th>\n",
       "      <th>day_Wednesday</th>\n",
       "    </tr>\n",
       "  </thead>\n",
       "  <tbody>\n",
       "    <tr>\n",
       "      <th>0</th>\n",
       "      <td>382.0</td>\n",
       "      <td>22.014288</td>\n",
       "      <td>75.600426</td>\n",
       "      <td>5.661357</td>\n",
       "      <td>97.562340</td>\n",
       "      <td>26.069164</td>\n",
       "      <td>17.942665</td>\n",
       "      <td>2.506411</td>\n",
       "      <td>0.0</td>\n",
       "      <td>0.0</td>\n",
       "      <td>...</td>\n",
       "      <td>0.0</td>\n",
       "      <td>0.0</td>\n",
       "      <td>0.0</td>\n",
       "      <td>0.0</td>\n",
       "      <td>0.0</td>\n",
       "      <td>0.0</td>\n",
       "      <td>0.0</td>\n",
       "      <td>0.0</td>\n",
       "      <td>1.0</td>\n",
       "      <td>0.0</td>\n",
       "    </tr>\n",
       "    <tr>\n",
       "      <th>1</th>\n",
       "      <td>181.0</td>\n",
       "      <td>50.972584</td>\n",
       "      <td>83.716194</td>\n",
       "      <td>33.240688</td>\n",
       "      <td>33.419670</td>\n",
       "      <td>10.616122</td>\n",
       "      <td>19.598366</td>\n",
       "      <td>0.584914</td>\n",
       "      <td>1.0</td>\n",
       "      <td>0.0</td>\n",
       "      <td>...</td>\n",
       "      <td>0.0</td>\n",
       "      <td>1.0</td>\n",
       "      <td>0.0</td>\n",
       "      <td>0.0</td>\n",
       "      <td>0.0</td>\n",
       "      <td>0.0</td>\n",
       "      <td>0.0</td>\n",
       "      <td>0.0</td>\n",
       "      <td>0.0</td>\n",
       "      <td>1.0</td>\n",
       "    </tr>\n",
       "    <tr>\n",
       "      <th>2</th>\n",
       "      <td>85.0</td>\n",
       "      <td>60.554283</td>\n",
       "      <td>86.343002</td>\n",
       "      <td>33.172092</td>\n",
       "      <td>26.039301</td>\n",
       "      <td>23.083981</td>\n",
       "      <td>9.458838</td>\n",
       "      <td>9.952803</td>\n",
       "      <td>1.0</td>\n",
       "      <td>0.0</td>\n",
       "      <td>...</td>\n",
       "      <td>0.0</td>\n",
       "      <td>0.0</td>\n",
       "      <td>0.0</td>\n",
       "      <td>0.0</td>\n",
       "      <td>0.0</td>\n",
       "      <td>1.0</td>\n",
       "      <td>0.0</td>\n",
       "      <td>0.0</td>\n",
       "      <td>0.0</td>\n",
       "      <td>0.0</td>\n",
       "    </tr>\n",
       "    <tr>\n",
       "      <th>3</th>\n",
       "      <td>664.0</td>\n",
       "      <td>45.183636</td>\n",
       "      <td>43.811165</td>\n",
       "      <td>33.045689</td>\n",
       "      <td>28.690355</td>\n",
       "      <td>11.013428</td>\n",
       "      <td>2.008591</td>\n",
       "      <td>8.102961</td>\n",
       "      <td>0.0</td>\n",
       "      <td>0.0</td>\n",
       "      <td>...</td>\n",
       "      <td>0.0</td>\n",
       "      <td>1.0</td>\n",
       "      <td>0.0</td>\n",
       "      <td>0.0</td>\n",
       "      <td>0.0</td>\n",
       "      <td>0.0</td>\n",
       "      <td>0.0</td>\n",
       "      <td>1.0</td>\n",
       "      <td>0.0</td>\n",
       "      <td>0.0</td>\n",
       "    </tr>\n",
       "    <tr>\n",
       "      <th>4</th>\n",
       "      <td>303.0</td>\n",
       "      <td>13.624877</td>\n",
       "      <td>89.486923</td>\n",
       "      <td>-3.577517</td>\n",
       "      <td>87.667953</td>\n",
       "      <td>7.356587</td>\n",
       "      <td>14.054790</td>\n",
       "      <td>1.972020</td>\n",
       "      <td>0.0</td>\n",
       "      <td>0.0</td>\n",
       "      <td>...</td>\n",
       "      <td>0.0</td>\n",
       "      <td>0.0</td>\n",
       "      <td>0.0</td>\n",
       "      <td>0.0</td>\n",
       "      <td>0.0</td>\n",
       "      <td>0.0</td>\n",
       "      <td>1.0</td>\n",
       "      <td>0.0</td>\n",
       "      <td>0.0</td>\n",
       "      <td>0.0</td>\n",
       "    </tr>\n",
       "  </tbody>\n",
       "</table>\n",
       "<p>5 rows × 25 columns</p>\n",
       "</div>"
      ],
      "text/plain": [
       "   Traffic_Flow  Average_Speed  Occupancy  Temperature   Humidity  Wind_Speed  \\\n",
       "0         382.0      22.014288  75.600426     5.661357  97.562340   26.069164   \n",
       "1         181.0      50.972584  83.716194    33.240688  33.419670   10.616122   \n",
       "2          85.0      60.554283  86.343002    33.172092  26.039301   23.083981   \n",
       "3         664.0      45.183636  43.811165    33.045689  28.690355   11.013428   \n",
       "4         303.0      13.624877  89.486923    -3.577517  87.667953    7.356587   \n",
       "\n",
       "   Precipitation  Visibility  Road_Condition_Dry  Road_Condition_Icy  ...  \\\n",
       "0      17.942665    2.506411                 0.0                 0.0  ...   \n",
       "1      19.598366    0.584914                 1.0                 0.0  ...   \n",
       "2       9.458838    9.952803                 1.0                 0.0  ...   \n",
       "3       2.008591    8.102961                 0.0                 0.0  ...   \n",
       "4      14.054790    1.972020                 0.0                 0.0  ...   \n",
       "\n",
       "   month_January  month_March  month_May  day_Friday  day_Monday  \\\n",
       "0            0.0          0.0        0.0         0.0         0.0   \n",
       "1            0.0          1.0        0.0         0.0         0.0   \n",
       "2            0.0          0.0        0.0         0.0         0.0   \n",
       "3            0.0          1.0        0.0         0.0         0.0   \n",
       "4            0.0          0.0        0.0         0.0         0.0   \n",
       "\n",
       "   day_Saturday  day_Sunday  day_Thursday  day_Tuesday  day_Wednesday  \n",
       "0           0.0         0.0           0.0          1.0            0.0  \n",
       "1           0.0         0.0           0.0          0.0            1.0  \n",
       "2           1.0         0.0           0.0          0.0            0.0  \n",
       "3           0.0         0.0           1.0          0.0            0.0  \n",
       "4           0.0         1.0           0.0          0.0            0.0  \n",
       "\n",
       "[5 rows x 25 columns]"
      ]
     },
     "execution_count": 42,
     "metadata": {},
     "output_type": "execute_result"
    }
   ],
   "source": [
    "X_train.head()"
   ]
  },
  {
   "cell_type": "code",
   "execution_count": 43,
   "id": "1a181514-9e8c-4fdc-b064-4b2cf0928f26",
   "metadata": {
    "id": "1a181514-9e8c-4fdc-b064-4b2cf0928f26"
   },
   "outputs": [
    {
     "data": {
      "text/html": [
       "<div>\n",
       "<style scoped>\n",
       "    .dataframe tbody tr th:only-of-type {\n",
       "        vertical-align: middle;\n",
       "    }\n",
       "\n",
       "    .dataframe tbody tr th {\n",
       "        vertical-align: top;\n",
       "    }\n",
       "\n",
       "    .dataframe thead th {\n",
       "        text-align: right;\n",
       "    }\n",
       "</style>\n",
       "<table border=\"1\" class=\"dataframe\">\n",
       "  <thead>\n",
       "    <tr style=\"text-align: right;\">\n",
       "      <th></th>\n",
       "      <th>Traffic_Flow</th>\n",
       "      <th>Average_Speed</th>\n",
       "      <th>Occupancy</th>\n",
       "      <th>Temperature</th>\n",
       "      <th>Humidity</th>\n",
       "      <th>Wind_Speed</th>\n",
       "      <th>Precipitation</th>\n",
       "      <th>Visibility</th>\n",
       "      <th>Road_Condition_Dry</th>\n",
       "      <th>Road_Condition_Icy</th>\n",
       "      <th>...</th>\n",
       "      <th>month_January</th>\n",
       "      <th>month_March</th>\n",
       "      <th>month_May</th>\n",
       "      <th>day_Friday</th>\n",
       "      <th>day_Monday</th>\n",
       "      <th>day_Saturday</th>\n",
       "      <th>day_Sunday</th>\n",
       "      <th>day_Thursday</th>\n",
       "      <th>day_Tuesday</th>\n",
       "      <th>day_Wednesday</th>\n",
       "    </tr>\n",
       "  </thead>\n",
       "  <tbody>\n",
       "    <tr>\n",
       "      <th>0</th>\n",
       "      <td>477.0</td>\n",
       "      <td>42.702572</td>\n",
       "      <td>26.067516</td>\n",
       "      <td>20.775202</td>\n",
       "      <td>32.899578</td>\n",
       "      <td>20.939281</td>\n",
       "      <td>6.094724</td>\n",
       "      <td>7.165725</td>\n",
       "      <td>0.0</td>\n",
       "      <td>1.0</td>\n",
       "      <td>...</td>\n",
       "      <td>0.0</td>\n",
       "      <td>1.0</td>\n",
       "      <td>0.0</td>\n",
       "      <td>0.0</td>\n",
       "      <td>0.0</td>\n",
       "      <td>1.0</td>\n",
       "      <td>0.0</td>\n",
       "      <td>0.0</td>\n",
       "      <td>0.0</td>\n",
       "      <td>0.0</td>\n",
       "    </tr>\n",
       "    <tr>\n",
       "      <th>1</th>\n",
       "      <td>644.0</td>\n",
       "      <td>55.200287</td>\n",
       "      <td>29.099939</td>\n",
       "      <td>-7.258950</td>\n",
       "      <td>95.875465</td>\n",
       "      <td>26.060392</td>\n",
       "      <td>18.302824</td>\n",
       "      <td>0.148318</td>\n",
       "      <td>0.0</td>\n",
       "      <td>1.0</td>\n",
       "      <td>...</td>\n",
       "      <td>0.0</td>\n",
       "      <td>0.0</td>\n",
       "      <td>0.0</td>\n",
       "      <td>0.0</td>\n",
       "      <td>1.0</td>\n",
       "      <td>0.0</td>\n",
       "      <td>0.0</td>\n",
       "      <td>0.0</td>\n",
       "      <td>0.0</td>\n",
       "      <td>0.0</td>\n",
       "    </tr>\n",
       "    <tr>\n",
       "      <th>2</th>\n",
       "      <td>215.0</td>\n",
       "      <td>27.630110</td>\n",
       "      <td>94.049721</td>\n",
       "      <td>1.394337</td>\n",
       "      <td>86.850647</td>\n",
       "      <td>17.046835</td>\n",
       "      <td>16.829014</td>\n",
       "      <td>4.472167</td>\n",
       "      <td>0.0</td>\n",
       "      <td>0.0</td>\n",
       "      <td>...</td>\n",
       "      <td>0.0</td>\n",
       "      <td>0.0</td>\n",
       "      <td>0.0</td>\n",
       "      <td>0.0</td>\n",
       "      <td>0.0</td>\n",
       "      <td>0.0</td>\n",
       "      <td>0.0</td>\n",
       "      <td>0.0</td>\n",
       "      <td>1.0</td>\n",
       "      <td>0.0</td>\n",
       "    </tr>\n",
       "    <tr>\n",
       "      <th>3</th>\n",
       "      <td>475.0</td>\n",
       "      <td>10.584205</td>\n",
       "      <td>0.776664</td>\n",
       "      <td>1.981056</td>\n",
       "      <td>13.061076</td>\n",
       "      <td>10.423733</td>\n",
       "      <td>17.251488</td>\n",
       "      <td>3.331801</td>\n",
       "      <td>0.0</td>\n",
       "      <td>0.0</td>\n",
       "      <td>...</td>\n",
       "      <td>0.0</td>\n",
       "      <td>0.0</td>\n",
       "      <td>0.0</td>\n",
       "      <td>0.0</td>\n",
       "      <td>0.0</td>\n",
       "      <td>0.0</td>\n",
       "      <td>0.0</td>\n",
       "      <td>0.0</td>\n",
       "      <td>0.0</td>\n",
       "      <td>1.0</td>\n",
       "    </tr>\n",
       "    <tr>\n",
       "      <th>4</th>\n",
       "      <td>112.0</td>\n",
       "      <td>55.595238</td>\n",
       "      <td>25.034027</td>\n",
       "      <td>12.627937</td>\n",
       "      <td>46.052734</td>\n",
       "      <td>9.935663</td>\n",
       "      <td>18.476688</td>\n",
       "      <td>0.448931</td>\n",
       "      <td>1.0</td>\n",
       "      <td>0.0</td>\n",
       "      <td>...</td>\n",
       "      <td>0.0</td>\n",
       "      <td>0.0</td>\n",
       "      <td>0.0</td>\n",
       "      <td>0.0</td>\n",
       "      <td>1.0</td>\n",
       "      <td>0.0</td>\n",
       "      <td>0.0</td>\n",
       "      <td>0.0</td>\n",
       "      <td>0.0</td>\n",
       "      <td>0.0</td>\n",
       "    </tr>\n",
       "  </tbody>\n",
       "</table>\n",
       "<p>5 rows × 25 columns</p>\n",
       "</div>"
      ],
      "text/plain": [
       "   Traffic_Flow  Average_Speed  Occupancy  Temperature   Humidity  Wind_Speed  \\\n",
       "0         477.0      42.702572  26.067516    20.775202  32.899578   20.939281   \n",
       "1         644.0      55.200287  29.099939    -7.258950  95.875465   26.060392   \n",
       "2         215.0      27.630110  94.049721     1.394337  86.850647   17.046835   \n",
       "3         475.0      10.584205   0.776664     1.981056  13.061076   10.423733   \n",
       "4         112.0      55.595238  25.034027    12.627937  46.052734    9.935663   \n",
       "\n",
       "   Precipitation  Visibility  Road_Condition_Dry  Road_Condition_Icy  ...  \\\n",
       "0       6.094724    7.165725                 0.0                 1.0  ...   \n",
       "1      18.302824    0.148318                 0.0                 1.0  ...   \n",
       "2      16.829014    4.472167                 0.0                 0.0  ...   \n",
       "3      17.251488    3.331801                 0.0                 0.0  ...   \n",
       "4      18.476688    0.448931                 1.0                 0.0  ...   \n",
       "\n",
       "   month_January  month_March  month_May  day_Friday  day_Monday  \\\n",
       "0            0.0          1.0        0.0         0.0         0.0   \n",
       "1            0.0          0.0        0.0         0.0         1.0   \n",
       "2            0.0          0.0        0.0         0.0         0.0   \n",
       "3            0.0          0.0        0.0         0.0         0.0   \n",
       "4            0.0          0.0        0.0         0.0         1.0   \n",
       "\n",
       "   day_Saturday  day_Sunday  day_Thursday  day_Tuesday  day_Wednesday  \n",
       "0           1.0         0.0           0.0          0.0            0.0  \n",
       "1           0.0         0.0           0.0          0.0            0.0  \n",
       "2           0.0         0.0           0.0          1.0            0.0  \n",
       "3           0.0         0.0           0.0          0.0            1.0  \n",
       "4           0.0         0.0           0.0          0.0            0.0  \n",
       "\n",
       "[5 rows x 25 columns]"
      ]
     },
     "execution_count": 43,
     "metadata": {},
     "output_type": "execute_result"
    }
   ],
   "source": [
    "X_test.head()"
   ]
  },
  {
   "cell_type": "code",
   "execution_count": 44,
   "id": "98c7c929-b396-44cb-a475-a72f3ad952ee",
   "metadata": {
    "id": "98c7c929-b396-44cb-a475-a72f3ad952ee"
   },
   "outputs": [
    {
     "data": {
      "text/plain": [
       "Traffic_Congestion\n",
       "2    757\n",
       "0    705\n",
       "1    698\n",
       "Name: count, dtype: int64"
      ]
     },
     "execution_count": 44,
     "metadata": {},
     "output_type": "execute_result"
    }
   ],
   "source": [
    "y_train.value_counts()"
   ]
  },
  {
   "cell_type": "code",
   "execution_count": 45,
   "id": "2570164b-98cd-4931-a1f2-7b02787e5498",
   "metadata": {
    "id": "2570164b-98cd-4931-a1f2-7b02787e5498"
   },
   "outputs": [
    {
     "data": {
      "text/plain": [
       "Traffic_Congestion\n",
       "0    184\n",
       "1    183\n",
       "2    173\n",
       "Name: count, dtype: int64"
      ]
     },
     "execution_count": 45,
     "metadata": {},
     "output_type": "execute_result"
    }
   ],
   "source": [
    "y_test.value_counts()"
   ]
  },
  {
   "cell_type": "code",
   "execution_count": 46,
   "id": "37a93404-68ac-482a-b822-d8975521b849",
   "metadata": {
    "id": "37a93404-68ac-482a-b822-d8975521b849"
   },
   "outputs": [],
   "source": [
    "scaler=StandardScaler()\n",
    "X_train_scaled=scaler.fit_transform(X_train)"
   ]
  },
  {
   "cell_type": "code",
   "execution_count": 47,
   "id": "c5f83b1a-d10e-4e73-9a43-a88177591577",
   "metadata": {
    "id": "c5f83b1a-d10e-4e73-9a43-a88177591577"
   },
   "outputs": [],
   "source": [
    "X_test_scaled= scaler.transform(X_test)"
   ]
  },
  {
   "cell_type": "code",
   "execution_count": 48,
   "id": "6abd7503-60d2-47a7-9d3a-4f087bd7a911",
   "metadata": {
    "id": "6abd7503-60d2-47a7-9d3a-4f087bd7a911"
   },
   "outputs": [
    {
     "data": {
      "text/plain": [
       "array([[-0.41579774, -1.1021518 ,  0.9118568 , ..., -0.42008403,\n",
       "         2.5242848 , -0.4039386 ],\n",
       "       [-1.0940391 , -0.26345977,  1.1959401 , ..., -0.42008403,\n",
       "        -0.3961518 ,  2.4756236 ],\n",
       "       [-1.4179752 ,  0.01404601,  1.2878885 , ..., -0.42008403,\n",
       "        -0.3961518 , -0.4039386 ],\n",
       "       ...,\n",
       "       [-0.07161558,  0.4725257 , -1.7097981 , ..., -0.42008403,\n",
       "        -0.3961518 ,  2.4756236 ],\n",
       "       [-1.1514027 , -0.22678445, -0.53917575, ...,  2.3804762 ,\n",
       "        -0.3961518 , -0.4039386 ],\n",
       "       [ 0.5053957 ,  0.04283451,  1.247145  , ..., -0.42008403,\n",
       "        -0.3961518 , -0.4039386 ]], dtype=float32)"
      ]
     },
     "execution_count": 48,
     "metadata": {},
     "output_type": "execute_result"
    }
   ],
   "source": [
    "X_train_scaled"
   ]
  },
  {
   "cell_type": "code",
   "execution_count": 49,
   "id": "102c1880-5520-4578-90c9-1b23226d1802",
   "metadata": {
    "id": "102c1880-5520-4578-90c9-1b23226d1802"
   },
   "outputs": [
    {
     "data": {
      "text/plain": [
       "array([[-0.09523592, -0.5029764 , -0.821987  , ..., -0.42008403,\n",
       "        -0.3961518 , -0.4039386 ],\n",
       "       [ 0.468278  , -0.14101677, -0.7158404 , ..., -0.42008403,\n",
       "        -0.3961518 , -0.4039386 ],\n",
       "       [-0.97931165, -0.939506  ,  1.5576535 , ..., -0.42008403,\n",
       "         2.5242848 , -0.4039386 ],\n",
       "       ...,\n",
       "       [-1.6811733 ,  1.6719538 ,  0.6655958 , ..., -0.42008403,\n",
       "         2.5242848 , -0.4039386 ],\n",
       "       [ 1.203883  ,  1.1873977 ,  1.3435254 , ..., -0.42008403,\n",
       "         2.5242848 , -0.4039386 ],\n",
       "       [ 0.33667895, -1.6678886 ,  0.1323349 , ..., -0.42008403,\n",
       "        -0.3961518 ,  2.4756236 ]], dtype=float32)"
      ]
     },
     "execution_count": 49,
     "metadata": {},
     "output_type": "execute_result"
    }
   ],
   "source": [
    "X_test_scaled"
   ]
  },
  {
   "cell_type": "markdown",
   "id": "Vz-4NuyfI9KP",
   "metadata": {
    "id": "Vz-4NuyfI9KP"
   },
   "source": [
    "### Converting to tensor format"
   ]
  },
  {
   "cell_type": "code",
   "execution_count": 50,
   "id": "c9618bf1-5adc-4e43-a2cd-3660fdd504c7",
   "metadata": {
    "id": "c9618bf1-5adc-4e43-a2cd-3660fdd504c7"
   },
   "outputs": [],
   "source": [
    "X_train_tensor = torch.tensor(X_train_scaled.astype('float32'))\n",
    "X_test_tensor = torch.tensor(X_test_scaled.astype('float32'))\n",
    "y_train_tensor=torch.tensor(y_train.astype('float32'))\n",
    "y_test_tensor=torch.tensor(y_test.astype('float32'))"
   ]
  },
  {
   "cell_type": "code",
   "execution_count": 51,
   "id": "5b69746f-d017-4072-a703-4d6a93d14ce0",
   "metadata": {
    "id": "5b69746f-d017-4072-a703-4d6a93d14ce0"
   },
   "outputs": [
    {
     "data": {
      "text/plain": [
       "tensor([[-0.4158, -1.1022,  0.9119,  ..., -0.4201,  2.5243, -0.4039],\n",
       "        [-1.0940, -0.2635,  1.1959,  ..., -0.4201, -0.3962,  2.4756],\n",
       "        [-1.4180,  0.0140,  1.2879,  ..., -0.4201, -0.3962, -0.4039],\n",
       "        ...,\n",
       "        [-0.0716,  0.4725, -1.7098,  ..., -0.4201, -0.3962,  2.4756],\n",
       "        [-1.1514, -0.2268, -0.5392,  ...,  2.3805, -0.3962, -0.4039],\n",
       "        [ 0.5054,  0.0428,  1.2471,  ..., -0.4201, -0.3962, -0.4039]])"
      ]
     },
     "execution_count": 51,
     "metadata": {},
     "output_type": "execute_result"
    }
   ],
   "source": [
    "X_train_tensor"
   ]
  },
  {
   "cell_type": "code",
   "execution_count": 52,
   "id": "86e2ed1c-f2ba-4345-b296-803ef8bc6089",
   "metadata": {
    "id": "86e2ed1c-f2ba-4345-b296-803ef8bc6089"
   },
   "outputs": [
    {
     "data": {
      "text/plain": [
       "tensor([[-0.0952, -0.5030, -0.8220,  ..., -0.4201, -0.3962, -0.4039],\n",
       "        [ 0.4683, -0.1410, -0.7158,  ..., -0.4201, -0.3962, -0.4039],\n",
       "        [-0.9793, -0.9395,  1.5577,  ..., -0.4201,  2.5243, -0.4039],\n",
       "        ...,\n",
       "        [-1.6812,  1.6720,  0.6656,  ..., -0.4201,  2.5243, -0.4039],\n",
       "        [ 1.2039,  1.1874,  1.3435,  ..., -0.4201,  2.5243, -0.4039],\n",
       "        [ 0.3367, -1.6679,  0.1323,  ..., -0.4201, -0.3962,  2.4756]])"
      ]
     },
     "execution_count": 52,
     "metadata": {},
     "output_type": "execute_result"
    }
   ],
   "source": [
    "X_test_tensor"
   ]
  },
  {
   "cell_type": "code",
   "execution_count": 53,
   "id": "c0f83b7f-7150-4ba8-8541-0019e46c598f",
   "metadata": {
    "id": "c0f83b7f-7150-4ba8-8541-0019e46c598f"
   },
   "outputs": [
    {
     "data": {
      "text/plain": [
       "tensor([1., 0., 0.,  ..., 1., 0., 1.])"
      ]
     },
     "execution_count": 53,
     "metadata": {},
     "output_type": "execute_result"
    }
   ],
   "source": [
    "y_train_tensor"
   ]
  },
  {
   "cell_type": "code",
   "execution_count": 54,
   "id": "4e91af60-ad23-4a30-8128-60154677fb01",
   "metadata": {
    "id": "4e91af60-ad23-4a30-8128-60154677fb01"
   },
   "outputs": [
    {
     "data": {
      "text/plain": [
       "tensor([1., 1., 0., 1., 0., 0., 0., 0., 0., 2.])"
      ]
     },
     "execution_count": 54,
     "metadata": {},
     "output_type": "execute_result"
    }
   ],
   "source": [
    "y_test_tensor[:10]"
   ]
  },
  {
   "cell_type": "markdown",
   "id": "6yDdV-FrJX7m",
   "metadata": {
    "id": "6yDdV-FrJX7m"
   },
   "source": [
    "### Building autoencoder model for data compression"
   ]
  },
  {
   "cell_type": "code",
   "execution_count": 55,
   "id": "a4acd533-552f-4711-8cbe-914d6a729c52",
   "metadata": {
    "id": "a4acd533-552f-4711-8cbe-914d6a729c52"
   },
   "outputs": [],
   "source": [
    "# Loading train data\n",
    "train_loader =DataLoader(X_train_tensor, batch_size=50, shuffle=True)"
   ]
  },
  {
   "cell_type": "code",
   "execution_count": 56,
   "id": "4b74c3bb-4742-4e13-a18f-9f2430ff3920",
   "metadata": {
    "id": "4b74c3bb-4742-4e13-a18f-9f2430ff3920"
   },
   "outputs": [],
   "source": [
    "class Autoencoder(nn.Module):\n",
    "    def __init__(self, input_dim):\n",
    "        super().__init__()\n",
    "        # Encoder\n",
    "        self.encoder = nn.Sequential(\n",
    "            nn.Linear(input_dim,20),\n",
    "            nn.BatchNorm1d(20),\n",
    "            nn.ReLU(),\n",
    "            nn.Linear(20,12),\n",
    "            nn.ReLU()\n",
    "                                         )\n",
    "        # Decoder\n",
    "        self.decoder = nn.Sequential(\n",
    "            nn.Linear(12,20),\n",
    "            nn.BatchNorm1d(20),\n",
    "            nn.ReLU(),\n",
    "            nn.Linear(20,input_dim)\n",
    "        )\n",
    "\n",
    "    def forward(self, features):\n",
    "        encoded = self.encoder(features)\n",
    "        decoded = self.decoder(encoded)\n",
    "        return decoded\n"
   ]
  },
  {
   "cell_type": "code",
   "execution_count": 57,
   "id": "c819c67b-a0d9-4a80-8895-afe2d25c17d9",
   "metadata": {
    "id": "c819c67b-a0d9-4a80-8895-afe2d25c17d9"
   },
   "outputs": [
    {
     "data": {
      "text/plain": [
       "25"
      ]
     },
     "execution_count": 57,
     "metadata": {},
     "output_type": "execute_result"
    }
   ],
   "source": [
    "input_dim = X_train.shape[1]\n",
    "input_dim"
   ]
  },
  {
   "cell_type": "code",
   "execution_count": 58,
   "id": "e64b401d-160f-4597-8187-be92520f7f06",
   "metadata": {
    "id": "e64b401d-160f-4597-8187-be92520f7f06"
   },
   "outputs": [],
   "source": [
    "model = Autoencoder(input_dim=input_dim)\n"
   ]
  },
  {
   "cell_type": "code",
   "execution_count": 59,
   "id": "8de5e862-c872-4578-af86-3b7e3b2f2c46",
   "metadata": {
    "id": "8de5e862-c872-4578-af86-3b7e3b2f2c46"
   },
   "outputs": [],
   "source": [
    "learning_rate=0.01\n",
    "num_epochs = 800\n",
    "best_loss=float('inf')\n",
    "patience=50"
   ]
  },
  {
   "cell_type": "code",
   "execution_count": 60,
   "id": "22ae25b7-0334-4b94-9e9e-9ad2da3288f1",
   "metadata": {
    "id": "22ae25b7-0334-4b94-9e9e-9ad2da3288f1"
   },
   "outputs": [],
   "source": [
    "criterion = nn.MSELoss()\n",
    "optimizer = optim.Adam(model.parameters(), lr=learning_rate)"
   ]
  },
  {
   "cell_type": "code",
   "execution_count": 61,
   "id": "fe2bfe20-4ff9-449c-ab1a-b81af7fbc2ed",
   "metadata": {
    "id": "fe2bfe20-4ff9-449c-ab1a-b81af7fbc2ed"
   },
   "outputs": [
    {
     "name": "stdout",
     "output_type": "stream",
     "text": [
      "Epoch [1/800], Loss: 0.8057, Val Loss: 0.6601\n",
      "Epoch [2/800], Loss: 0.5849, Val Loss: 0.5300\n",
      "Epoch [3/800], Loss: 0.4945, Val Loss: 0.4446\n",
      "Epoch [4/800], Loss: 0.4433, Val Loss: 0.4089\n",
      "Epoch [5/800], Loss: 0.3955, Val Loss: 0.3717\n",
      "Epoch [6/800], Loss: 0.3565, Val Loss: 0.3296\n",
      "Epoch [7/800], Loss: 0.3372, Val Loss: 0.3132\n",
      "Epoch [8/800], Loss: 0.3233, Val Loss: 0.2992\n",
      "Epoch [9/800], Loss: 0.3177, Val Loss: 0.2880\n",
      "Epoch [10/800], Loss: 0.3073, Val Loss: 0.2794\n",
      "Epoch [11/800], Loss: 0.2963, Val Loss: 0.2626\n",
      "Epoch [12/800], Loss: 0.2903, Val Loss: 0.2655\n",
      "Epoch [13/800], Loss: 0.2793, Val Loss: 0.2445\n",
      "Epoch [14/800], Loss: 0.2662, Val Loss: 0.2405\n",
      "Epoch [15/800], Loss: 0.2601, Val Loss: 0.2316\n",
      "Epoch [16/800], Loss: 0.2595, Val Loss: 0.2228\n",
      "Epoch [17/800], Loss: 0.2393, Val Loss: 0.2060\n",
      "Epoch [18/800], Loss: 0.2376, Val Loss: 0.2102\n",
      "Epoch [19/800], Loss: 0.2374, Val Loss: 0.1997\n",
      "Epoch [20/800], Loss: 0.2329, Val Loss: 0.1985\n",
      "Epoch [21/800], Loss: 0.2275, Val Loss: 0.1950\n",
      "Epoch [22/800], Loss: 0.2269, Val Loss: 0.1960\n",
      "Epoch [23/800], Loss: 0.2199, Val Loss: 0.1855\n",
      "Epoch [24/800], Loss: 0.2146, Val Loss: 0.1755\n",
      "Epoch [25/800], Loss: 0.2109, Val Loss: 0.1739\n",
      "Epoch [26/800], Loss: 0.2064, Val Loss: 0.1756\n",
      "Epoch [27/800], Loss: 0.2066, Val Loss: 0.1784\n",
      "Epoch [28/800], Loss: 0.2062, Val Loss: 0.1659\n",
      "Epoch [29/800], Loss: 0.2065, Val Loss: 0.1672\n",
      "Epoch [30/800], Loss: 0.2050, Val Loss: 0.1797\n",
      "Epoch [31/800], Loss: 0.2065, Val Loss: 0.1638\n",
      "Epoch [32/800], Loss: 0.2029, Val Loss: 0.1642\n",
      "Epoch [33/800], Loss: 0.1998, Val Loss: 0.1685\n",
      "Epoch [34/800], Loss: 0.1930, Val Loss: 0.1544\n",
      "Epoch [35/800], Loss: 0.1952, Val Loss: 0.1738\n",
      "Epoch [36/800], Loss: 0.1959, Val Loss: 0.1586\n",
      "Epoch [37/800], Loss: 0.1994, Val Loss: 0.1612\n",
      "Epoch [38/800], Loss: 0.1996, Val Loss: 0.2449\n",
      "Epoch [39/800], Loss: 0.1975, Val Loss: 0.1607\n",
      "Epoch [40/800], Loss: 0.1948, Val Loss: 0.1598\n",
      "Epoch [41/800], Loss: 0.1953, Val Loss: 0.1682\n",
      "Epoch [42/800], Loss: 0.1888, Val Loss: 0.1513\n",
      "Epoch [43/800], Loss: 0.1907, Val Loss: 0.1571\n",
      "Epoch [44/800], Loss: 0.1953, Val Loss: 0.1600\n",
      "Epoch [45/800], Loss: 0.1977, Val Loss: 0.1624\n",
      "Epoch [46/800], Loss: 0.1928, Val Loss: 0.1528\n",
      "Epoch [47/800], Loss: 0.1895, Val Loss: 0.1568\n",
      "Epoch [48/800], Loss: 0.1899, Val Loss: 0.1509\n",
      "Epoch [49/800], Loss: 0.1881, Val Loss: 0.1610\n",
      "Epoch [50/800], Loss: 0.1919, Val Loss: 0.1611\n",
      "Epoch [51/800], Loss: 0.2003, Val Loss: 0.1954\n",
      "Epoch [52/800], Loss: 0.2184, Val Loss: 0.1834\n",
      "Epoch [53/800], Loss: 0.2065, Val Loss: 0.1750\n",
      "Epoch [54/800], Loss: 0.1950, Val Loss: 0.1589\n",
      "Epoch [55/800], Loss: 0.1990, Val Loss: 0.1657\n",
      "Epoch [56/800], Loss: 0.1981, Val Loss: 0.1644\n",
      "Epoch [57/800], Loss: 0.1876, Val Loss: 0.1522\n",
      "Epoch [58/800], Loss: 0.1895, Val Loss: 0.1543\n",
      "Epoch [59/800], Loss: 0.1842, Val Loss: 0.1492\n",
      "Epoch [60/800], Loss: 0.1855, Val Loss: 0.1548\n",
      "Epoch [61/800], Loss: 0.1888, Val Loss: 0.1472\n",
      "Epoch [62/800], Loss: 0.1869, Val Loss: 0.1473\n",
      "Epoch [63/800], Loss: 0.1900, Val Loss: 0.1549\n",
      "Epoch [64/800], Loss: 0.1955, Val Loss: 0.1580\n",
      "Epoch [65/800], Loss: 0.1900, Val Loss: 0.1544\n",
      "Epoch [66/800], Loss: 0.1913, Val Loss: 0.1633\n",
      "Epoch [67/800], Loss: 0.1955, Val Loss: 0.1586\n",
      "Epoch [68/800], Loss: 0.1855, Val Loss: 0.1597\n",
      "Epoch [69/800], Loss: 0.1841, Val Loss: 0.1485\n",
      "Epoch [70/800], Loss: 0.1885, Val Loss: 0.1482\n",
      "Epoch [71/800], Loss: 0.1901, Val Loss: 0.1516\n",
      "Epoch [72/800], Loss: 0.1904, Val Loss: 0.1531\n",
      "Epoch [73/800], Loss: 0.1858, Val Loss: 0.1495\n",
      "Epoch [74/800], Loss: 0.1867, Val Loss: 0.1484\n",
      "Epoch [75/800], Loss: 0.1825, Val Loss: 0.1493\n",
      "Epoch [76/800], Loss: 0.1861, Val Loss: 0.1577\n",
      "Epoch [77/800], Loss: 0.1884, Val Loss: 0.1526\n",
      "Epoch [78/800], Loss: 0.1864, Val Loss: 0.1496\n",
      "Epoch [79/800], Loss: 0.1787, Val Loss: 0.1476\n",
      "Epoch [80/800], Loss: 0.1967, Val Loss: 0.1521\n",
      "Epoch [81/800], Loss: 0.1916, Val Loss: 0.1484\n",
      "Epoch [82/800], Loss: 0.1825, Val Loss: 0.1542\n",
      "Epoch [83/800], Loss: 0.1898, Val Loss: 0.1479\n",
      "Epoch [84/800], Loss: 0.1861, Val Loss: 0.1457\n",
      "Epoch [85/800], Loss: 0.1901, Val Loss: 0.1479\n",
      "Epoch [86/800], Loss: 0.1827, Val Loss: 0.1475\n",
      "Epoch [87/800], Loss: 0.1863, Val Loss: 0.1463\n",
      "Epoch [88/800], Loss: 0.1937, Val Loss: 0.1540\n",
      "Epoch [89/800], Loss: 0.1932, Val Loss: 0.1518\n",
      "Epoch [90/800], Loss: 0.1833, Val Loss: 0.1519\n",
      "Epoch [91/800], Loss: 0.1815, Val Loss: 0.1518\n",
      "Epoch [92/800], Loss: 0.1822, Val Loss: 0.1443\n",
      "Epoch [93/800], Loss: 0.1775, Val Loss: 0.1485\n",
      "Epoch [94/800], Loss: 0.1938, Val Loss: 0.1519\n",
      "Epoch [95/800], Loss: 0.1847, Val Loss: 0.1487\n",
      "Epoch [96/800], Loss: 0.1803, Val Loss: 0.1507\n",
      "Epoch [97/800], Loss: 0.1826, Val Loss: 0.1540\n",
      "Epoch [98/800], Loss: 0.1771, Val Loss: 0.1433\n",
      "Epoch [99/800], Loss: 0.1777, Val Loss: 0.1536\n",
      "Epoch [100/800], Loss: 0.1825, Val Loss: 0.1448\n",
      "Epoch [101/800], Loss: 0.1792, Val Loss: 0.1494\n",
      "Epoch [102/800], Loss: 0.1844, Val Loss: 0.1475\n",
      "Epoch [103/800], Loss: 0.1840, Val Loss: 0.1472\n",
      "Epoch [104/800], Loss: 0.1805, Val Loss: 0.1502\n",
      "Epoch [105/800], Loss: 0.1823, Val Loss: 0.1454\n",
      "Epoch [106/800], Loss: 0.1879, Val Loss: 0.1547\n",
      "Epoch [107/800], Loss: 0.1846, Val Loss: 0.1448\n",
      "Epoch [108/800], Loss: 0.1877, Val Loss: 0.1547\n",
      "Epoch [109/800], Loss: 0.1804, Val Loss: 0.1501\n",
      "Epoch [110/800], Loss: 0.1807, Val Loss: 0.1475\n",
      "Epoch [111/800], Loss: 0.1778, Val Loss: 0.1476\n",
      "Epoch [112/800], Loss: 0.1827, Val Loss: 0.1504\n",
      "Epoch [113/800], Loss: 0.1892, Val Loss: 0.1535\n",
      "Epoch [114/800], Loss: 0.1893, Val Loss: 0.1537\n",
      "Epoch [115/800], Loss: 0.1757, Val Loss: 0.1469\n",
      "Epoch [116/800], Loss: 0.1776, Val Loss: 0.1468\n",
      "Epoch [117/800], Loss: 0.1792, Val Loss: 0.1483\n",
      "Epoch [118/800], Loss: 0.1816, Val Loss: 0.1472\n",
      "Epoch [119/800], Loss: 0.1768, Val Loss: 0.1474\n",
      "Epoch [120/800], Loss: 0.1825, Val Loss: 0.1428\n",
      "Epoch [121/800], Loss: 0.1791, Val Loss: 0.1432\n",
      "Epoch [122/800], Loss: 0.1725, Val Loss: 0.1437\n",
      "Epoch [123/800], Loss: 0.1789, Val Loss: 0.1452\n",
      "Epoch [124/800], Loss: 0.1750, Val Loss: 0.1422\n",
      "Epoch [125/800], Loss: 0.1736, Val Loss: 0.1451\n",
      "Epoch [126/800], Loss: 0.1767, Val Loss: 0.1508\n",
      "Epoch [127/800], Loss: 0.1843, Val Loss: 0.1485\n",
      "Epoch [128/800], Loss: 0.1797, Val Loss: 0.1467\n",
      "Epoch [129/800], Loss: 0.1769, Val Loss: 0.1426\n",
      "Epoch [130/800], Loss: 0.1754, Val Loss: 0.1431\n",
      "Epoch [131/800], Loss: 0.1794, Val Loss: 0.1453\n",
      "Epoch [132/800], Loss: 0.1675, Val Loss: 0.1458\n",
      "Epoch [133/800], Loss: 0.1779, Val Loss: 0.1549\n",
      "Epoch [134/800], Loss: 0.1796, Val Loss: 0.1489\n",
      "Epoch [135/800], Loss: 0.1815, Val Loss: 0.1477\n",
      "Epoch [136/800], Loss: 0.1749, Val Loss: 0.1441\n",
      "Epoch [137/800], Loss: 0.1836, Val Loss: 0.1455\n",
      "Epoch [138/800], Loss: 0.1789, Val Loss: 0.1443\n",
      "Epoch [139/800], Loss: 0.1750, Val Loss: 0.1456\n",
      "Epoch [140/800], Loss: 0.1802, Val Loss: 0.1571\n",
      "Epoch [141/800], Loss: 0.1754, Val Loss: 0.1496\n",
      "Epoch [142/800], Loss: 0.1773, Val Loss: 0.1466\n",
      "Epoch [143/800], Loss: 0.1814, Val Loss: 0.1435\n",
      "Epoch [144/800], Loss: 0.1745, Val Loss: 0.1497\n",
      "Epoch [145/800], Loss: 0.1807, Val Loss: 0.1481\n",
      "Epoch [146/800], Loss: 0.1785, Val Loss: 0.1443\n",
      "Epoch [147/800], Loss: 0.1774, Val Loss: 0.1525\n",
      "Epoch [148/800], Loss: 0.1758, Val Loss: 0.1522\n",
      "Epoch [149/800], Loss: 0.1716, Val Loss: 0.1469\n",
      "Epoch [150/800], Loss: 0.1798, Val Loss: 0.1470\n",
      "Epoch [151/800], Loss: 0.1738, Val Loss: 0.1410\n",
      "Epoch [152/800], Loss: 0.1792, Val Loss: 0.1458\n",
      "Epoch [153/800], Loss: 0.1781, Val Loss: 0.1487\n",
      "Epoch [154/800], Loss: 0.1768, Val Loss: 0.1450\n",
      "Epoch [155/800], Loss: 0.1803, Val Loss: 0.1472\n",
      "Epoch [156/800], Loss: 0.1787, Val Loss: 0.1479\n",
      "Epoch [157/800], Loss: 0.1721, Val Loss: 0.1428\n",
      "Epoch [158/800], Loss: 0.1766, Val Loss: 0.1409\n",
      "Epoch [159/800], Loss: 0.1757, Val Loss: 0.1454\n",
      "Epoch [160/800], Loss: 0.1727, Val Loss: 0.1417\n",
      "Epoch [161/800], Loss: 0.1763, Val Loss: 0.1511\n",
      "Epoch [162/800], Loss: 0.1787, Val Loss: 0.1487\n",
      "Epoch [163/800], Loss: 0.1795, Val Loss: 0.1570\n",
      "Epoch [164/800], Loss: 0.1783, Val Loss: 0.1487\n",
      "Epoch [165/800], Loss: 0.1799, Val Loss: 0.1447\n",
      "Epoch [166/800], Loss: 0.1789, Val Loss: 0.1484\n",
      "Epoch [167/800], Loss: 0.1778, Val Loss: 0.1474\n",
      "Epoch [168/800], Loss: 0.1699, Val Loss: 0.1503\n",
      "Epoch [169/800], Loss: 0.1734, Val Loss: 0.1436\n",
      "Epoch [170/800], Loss: 0.1696, Val Loss: 0.1445\n",
      "Epoch [171/800], Loss: 0.1791, Val Loss: 0.1435\n",
      "Epoch [172/800], Loss: 0.1781, Val Loss: 0.1633\n",
      "Epoch [173/800], Loss: 0.1742, Val Loss: 0.1430\n",
      "Epoch [174/800], Loss: 0.1720, Val Loss: 0.1508\n",
      "Epoch [175/800], Loss: 0.1757, Val Loss: 0.1450\n",
      "Epoch [176/800], Loss: 0.1772, Val Loss: 0.1451\n",
      "Epoch [177/800], Loss: 0.1753, Val Loss: 0.1463\n",
      "Epoch [178/800], Loss: 0.1736, Val Loss: 0.1454\n",
      "Epoch [179/800], Loss: 0.1734, Val Loss: 0.1421\n",
      "Epoch [180/800], Loss: 0.1724, Val Loss: 0.1461\n",
      "Epoch [181/800], Loss: 0.1744, Val Loss: 0.1470\n",
      "Epoch [182/800], Loss: 0.1721, Val Loss: 0.1456\n",
      "Epoch [183/800], Loss: 0.1750, Val Loss: 0.1447\n",
      "Epoch [184/800], Loss: 0.1754, Val Loss: 0.1454\n",
      "Epoch [185/800], Loss: 0.1776, Val Loss: 0.1467\n",
      "Epoch [186/800], Loss: 0.1729, Val Loss: 0.1461\n",
      "Epoch [187/800], Loss: 0.1750, Val Loss: 0.1481\n",
      "Epoch [188/800], Loss: 0.1725, Val Loss: 0.1513\n",
      "Epoch [189/800], Loss: 0.1714, Val Loss: 0.1424\n",
      "Epoch [190/800], Loss: 0.1746, Val Loss: 0.1480\n",
      "Epoch [191/800], Loss: 0.1735, Val Loss: 0.1510\n",
      "Epoch [192/800], Loss: 0.1748, Val Loss: 0.1438\n",
      "Epoch [193/800], Loss: 0.1764, Val Loss: 0.1459\n",
      "Epoch [194/800], Loss: 0.1763, Val Loss: 0.1417\n",
      "Epoch [195/800], Loss: 0.1748, Val Loss: 0.1452\n",
      "Epoch [196/800], Loss: 0.1764, Val Loss: 0.1425\n",
      "Epoch [197/800], Loss: 0.1746, Val Loss: 0.1491\n",
      "Epoch [198/800], Loss: 0.1699, Val Loss: 0.1399\n",
      "Epoch [199/800], Loss: 0.1673, Val Loss: 0.1475\n",
      "Epoch [200/800], Loss: 0.1789, Val Loss: 0.1440\n",
      "Epoch [201/800], Loss: 0.1738, Val Loss: 0.1467\n",
      "Epoch [202/800], Loss: 0.1751, Val Loss: 0.1487\n",
      "Epoch [203/800], Loss: 0.1772, Val Loss: 0.1447\n",
      "Epoch [204/800], Loss: 0.1761, Val Loss: 0.1436\n",
      "Epoch [205/800], Loss: 0.1780, Val Loss: 0.1430\n",
      "Epoch [206/800], Loss: 0.1776, Val Loss: 0.1441\n",
      "Epoch [207/800], Loss: 0.1750, Val Loss: 0.1445\n",
      "Epoch [208/800], Loss: 0.1699, Val Loss: 0.1463\n",
      "Epoch [209/800], Loss: 0.1806, Val Loss: 0.1479\n",
      "Epoch [210/800], Loss: 0.1702, Val Loss: 0.1400\n",
      "Epoch [211/800], Loss: 0.1747, Val Loss: 0.1457\n",
      "Epoch [212/800], Loss: 0.1740, Val Loss: 0.1462\n",
      "Epoch [213/800], Loss: 0.1743, Val Loss: 0.1424\n",
      "Epoch [214/800], Loss: 0.1866, Val Loss: 0.1474\n",
      "Epoch [215/800], Loss: 0.1711, Val Loss: 0.1526\n",
      "Epoch [216/800], Loss: 0.1761, Val Loss: 0.1530\n",
      "Epoch [217/800], Loss: 0.1711, Val Loss: 0.1417\n",
      "Epoch [218/800], Loss: 0.1737, Val Loss: 0.1431\n",
      "Epoch [219/800], Loss: 0.1734, Val Loss: 0.1522\n",
      "Epoch [220/800], Loss: 0.1882, Val Loss: 0.1454\n",
      "Epoch [221/800], Loss: 0.1824, Val Loss: 0.1488\n",
      "Epoch [222/800], Loss: 0.1706, Val Loss: 0.1524\n",
      "Epoch [223/800], Loss: 0.1736, Val Loss: 0.1483\n",
      "Epoch [224/800], Loss: 0.1699, Val Loss: 0.1396\n",
      "Epoch [225/800], Loss: 0.1688, Val Loss: 0.1406\n",
      "Epoch [226/800], Loss: 0.1732, Val Loss: 0.1442\n",
      "Epoch [227/800], Loss: 0.1780, Val Loss: 0.1477\n",
      "Epoch [228/800], Loss: 0.1814, Val Loss: 0.1432\n",
      "Epoch [229/800], Loss: 0.1662, Val Loss: 0.1447\n",
      "Epoch [230/800], Loss: 0.1774, Val Loss: 0.1528\n",
      "Epoch [231/800], Loss: 0.1794, Val Loss: 0.1409\n",
      "Epoch [232/800], Loss: 0.1737, Val Loss: 0.1470\n",
      "Epoch [233/800], Loss: 0.1714, Val Loss: 0.1412\n",
      "Epoch [234/800], Loss: 0.1691, Val Loss: 0.1508\n",
      "Epoch [235/800], Loss: 0.1689, Val Loss: 0.1411\n",
      "Epoch [236/800], Loss: 0.1746, Val Loss: 0.1447\n",
      "Epoch [237/800], Loss: 0.1748, Val Loss: 0.1497\n",
      "Epoch [238/800], Loss: 0.1753, Val Loss: 0.1489\n",
      "Epoch [239/800], Loss: 0.1754, Val Loss: 0.1437\n",
      "Epoch [240/800], Loss: 0.1737, Val Loss: 0.1428\n",
      "Epoch [241/800], Loss: 0.1716, Val Loss: 0.1436\n",
      "Epoch [242/800], Loss: 0.1673, Val Loss: 0.1430\n",
      "Epoch [243/800], Loss: 0.1697, Val Loss: 0.1447\n",
      "Epoch [244/800], Loss: 0.1773, Val Loss: 0.1493\n",
      "Epoch [245/800], Loss: 0.1718, Val Loss: 0.1415\n",
      "Epoch [246/800], Loss: 0.1704, Val Loss: 0.1392\n",
      "Epoch [247/800], Loss: 0.1683, Val Loss: 0.1424\n",
      "Epoch [248/800], Loss: 0.1726, Val Loss: 0.1430\n",
      "Epoch [249/800], Loss: 0.1758, Val Loss: 0.1469\n",
      "Epoch [250/800], Loss: 0.1687, Val Loss: 0.1433\n",
      "Epoch [251/800], Loss: 0.1720, Val Loss: 0.1445\n",
      "Epoch [252/800], Loss: 0.1771, Val Loss: 0.1434\n",
      "Epoch [253/800], Loss: 0.1700, Val Loss: 0.1451\n",
      "Epoch [254/800], Loss: 0.1701, Val Loss: 0.1528\n",
      "Epoch [255/800], Loss: 0.1741, Val Loss: 0.1442\n",
      "Epoch [256/800], Loss: 0.1669, Val Loss: 0.1473\n",
      "Epoch [257/800], Loss: 0.1736, Val Loss: 0.1444\n",
      "Epoch [258/800], Loss: 0.1723, Val Loss: 0.1433\n",
      "Epoch [259/800], Loss: 0.1732, Val Loss: 0.1404\n",
      "Epoch [260/800], Loss: 0.1711, Val Loss: 0.1428\n",
      "Epoch [261/800], Loss: 0.1714, Val Loss: 0.1472\n",
      "Epoch [262/800], Loss: 0.1720, Val Loss: 0.1458\n",
      "Epoch [263/800], Loss: 0.1728, Val Loss: 0.1424\n",
      "Epoch [264/800], Loss: 0.1704, Val Loss: 0.1458\n",
      "Epoch [265/800], Loss: 0.1720, Val Loss: 0.1514\n",
      "Epoch [266/800], Loss: 0.1781, Val Loss: 0.1491\n",
      "Epoch [267/800], Loss: 0.1732, Val Loss: 0.1480\n",
      "Epoch [268/800], Loss: 0.1737, Val Loss: 0.1474\n",
      "Epoch [269/800], Loss: 0.1710, Val Loss: 0.1441\n",
      "Epoch [270/800], Loss: 0.1716, Val Loss: 0.1443\n",
      "Epoch [271/800], Loss: 0.1725, Val Loss: 0.1478\n",
      "Epoch [272/800], Loss: 0.1688, Val Loss: 0.1418\n",
      "Epoch [273/800], Loss: 0.1757, Val Loss: 0.1530\n",
      "Epoch [274/800], Loss: 0.1778, Val Loss: 0.1472\n",
      "Epoch [275/800], Loss: 0.1763, Val Loss: 0.1429\n",
      "Epoch [276/800], Loss: 0.1745, Val Loss: 0.1476\n",
      "Epoch [277/800], Loss: 0.1861, Val Loss: 0.1522\n",
      "Epoch [278/800], Loss: 0.1821, Val Loss: 0.1504\n",
      "Epoch [279/800], Loss: 0.1776, Val Loss: 0.1531\n",
      "Epoch [280/800], Loss: 0.1731, Val Loss: 0.1454\n",
      "Epoch [281/800], Loss: 0.1683, Val Loss: 0.1435\n",
      "Epoch [282/800], Loss: 0.1652, Val Loss: 0.1497\n",
      "Epoch [283/800], Loss: 0.1692, Val Loss: 0.1491\n",
      "Epoch [284/800], Loss: 0.1670, Val Loss: 0.1542\n",
      "Epoch [285/800], Loss: 0.1692, Val Loss: 0.1460\n",
      "Epoch [286/800], Loss: 0.1707, Val Loss: 0.1423\n",
      "Epoch [287/800], Loss: 0.1734, Val Loss: 0.1440\n",
      "Epoch [288/800], Loss: 0.1666, Val Loss: 0.1469\n",
      "Epoch [289/800], Loss: 0.1741, Val Loss: 0.1463\n",
      "Epoch [290/800], Loss: 0.1676, Val Loss: 0.1418\n",
      "Epoch [291/800], Loss: 0.1734, Val Loss: 0.1433\n",
      "Epoch [292/800], Loss: 0.1706, Val Loss: 0.1610\n",
      "Epoch [293/800], Loss: 0.1719, Val Loss: 0.1568\n",
      "Epoch [294/800], Loss: 0.1755, Val Loss: 0.1451\n",
      "Epoch [295/800], Loss: 0.1723, Val Loss: 0.1463\n",
      "Epoch [296/800], Loss: 0.1732, Val Loss: 0.1424\n",
      "Early stopping at epoch 296\n"
     ]
    }
   ],
   "source": [
    "\n",
    "epoch_loss=0\n",
    "\n",
    "for epoch in range(num_epochs):\n",
    "    epoch_loss=0\n",
    "    model.train()\n",
    "    for batch in train_loader:\n",
    "        outputs = model(batch)\n",
    "        loss = criterion(outputs,batch)\n",
    "        optimizer.zero_grad()\n",
    "        loss.backward()\n",
    "        optimizer.step()\n",
    "\n",
    "        epoch_loss+=loss.item()\n",
    "\n",
    "\n",
    "    model.eval()\n",
    "    with torch.no_grad():\n",
    "        val_outputs = model(X_test_tensor)\n",
    "        val_loss = criterion(val_outputs, X_test_tensor)\n",
    "\n",
    "    print(f'Epoch [{epoch+1}/{num_epochs}], Loss: {epoch_loss/len(train_loader):.4f}, Val Loss: {val_loss.item():.4f}')\n",
    "    if val_loss < best_loss:\n",
    "        best_loss = val_loss\n",
    "        counter = 0\n",
    "        torch.save(model.state_dict(), 'best_model.pth')\n",
    "    else:\n",
    "        counter += 1\n",
    "        if counter >= patience:\n",
    "            print(f'Early stopping at epoch {epoch+1}')\n",
    "            break\n",
    "\n",
    "\n"
   ]
  },
  {
   "cell_type": "code",
   "execution_count": 62,
   "id": "14cc525a-a91f-4b1d-8764-b61f5ba76f95",
   "metadata": {
    "id": "14cc525a-a91f-4b1d-8764-b61f5ba76f95"
   },
   "outputs": [
    {
     "data": {
      "text/plain": [
       "<All keys matched successfully>"
      ]
     },
     "execution_count": 62,
     "metadata": {},
     "output_type": "execute_result"
    }
   ],
   "source": [
    "model.load_state_dict(torch.load('best_model.pth'))"
   ]
  },
  {
   "cell_type": "code",
   "execution_count": 63,
   "id": "e53afc11-147e-4fc3-b864-74407941fad3",
   "metadata": {
    "id": "e53afc11-147e-4fc3-b864-74407941fad3"
   },
   "outputs": [],
   "source": [
    "with torch.no_grad():\n",
    "    compressed_train_tensor = model.encoder(X_train_tensor)\n",
    "    compressed_test_tensor = model.encoder(X_test_tensor)"
   ]
  },
  {
   "cell_type": "code",
   "execution_count": 64,
   "id": "b2da08d0-b69f-401a-9669-4ec72fc108fd",
   "metadata": {
    "id": "b2da08d0-b69f-401a-9669-4ec72fc108fd"
   },
   "outputs": [
    {
     "data": {
      "text/plain": [
       "torch.Size([2160, 12])"
      ]
     },
     "execution_count": 64,
     "metadata": {},
     "output_type": "execute_result"
    }
   ],
   "source": [
    "compressed_train_tensor.shape"
   ]
  },
  {
   "cell_type": "markdown",
   "id": "1busHxglJuPM",
   "metadata": {
    "id": "1busHxglJuPM"
   },
   "source": [
    "Building Neural Network for multi class classification"
   ]
  },
  {
   "cell_type": "code",
   "execution_count": 65,
   "id": "179bbb4b-8c0b-48a0-82b3-911a1ef5832a",
   "metadata": {
    "id": "179bbb4b-8c0b-48a0-82b3-911a1ef5832a"
   },
   "outputs": [],
   "source": [
    "class Traffic(nn.Module):\n",
    "\n",
    "  def __init__(self, num_features):\n",
    "\n",
    "    super().__init__()\n",
    "    self.linear1 = nn.Linear(num_features, 20)\n",
    "    self.bn1 = nn.BatchNorm1d(20)\n",
    "    self.relu1 = nn.ReLU()\n",
    "    self.dropout1 = nn.Dropout(0.2)\n",
    "\n",
    "    self.linear2 = nn.Linear(20, 15)\n",
    "    self.bn2 = nn.BatchNorm1d(15)\n",
    "    self.relu2 = nn.ReLU()\n",
    "    self.dropout2 = nn.Dropout(0.2)\n",
    "\n",
    "    self.linear3 = nn.Linear(15, 10)\n",
    "    self.bn3 = nn.BatchNorm1d(10)\n",
    "    self.relu3 = nn.ReLU()\n",
    "    self.dropout3 = nn.Dropout(0.1)\n",
    "\n",
    "    self.linear4 = nn.Linear(10, 8)\n",
    "    self.bn4 = nn.BatchNorm1d(8)\n",
    "    self.relu4 = nn.ReLU()\n",
    "    #self.dropout4 = nn.Dropout(0.05)\n",
    "      \n",
    "    self.linear5 = nn.Linear(8, 3)\n",
    "  def forward(self, features):\n",
    "    out = self.linear1(features)\n",
    "    out = self.bn1(out)\n",
    "    out = self.relu1(out)\n",
    "    out = self.dropout1(out)\n",
    "\n",
    "    out = self.linear2(out)\n",
    "    out = self.bn2(out)\n",
    "    out = self.relu2(out)\n",
    "    out = self.dropout2(out)\n",
    "\n",
    "    out = self.linear3(out)\n",
    "    out = self.bn3(out)\n",
    "    out = self.relu3(out)\n",
    "    #out = self.dropout3(out)\n",
    "\n",
    "    out = self.linear4(out)\n",
    "    out = self.bn4(out)\n",
    "    out = self.relu4(out)\n",
    "    #out = self.dropout4(out)\n",
    "\n",
    "    out = self.linear5(out)\n",
    "    return out"
   ]
  },
  {
   "cell_type": "markdown",
   "id": "ViynsyGgxybQ",
   "metadata": {
    "id": "ViynsyGgxybQ"
   },
   "source": [
    "### Using Batch_gradient descent"
   ]
  },
  {
   "cell_type": "code",
   "execution_count": 66,
   "id": "2G-Q2yAixsZ6",
   "metadata": {
    "id": "2G-Q2yAixsZ6"
   },
   "outputs": [],
   "source": [
    "batch_size = 30\n",
    "train_dataset1 = TensorDataset(compressed_train_tensor, y_train_tensor.long())\n",
    "train_loader1 = DataLoader(train_dataset1, batch_size=batch_size, shuffle=True)\n",
    "test_dataset1 = TensorDataset(compressed_test_tensor, y_test_tensor.long())\n",
    "test_loader1 = DataLoader(test_dataset1, batch_size=batch_size, shuffle=False)"
   ]
  },
  {
   "cell_type": "code",
   "execution_count": 67,
   "id": "79b4971b-30ad-4517-834b-0d92b5a9a9c8",
   "metadata": {
    "id": "79b4971b-30ad-4517-834b-0d92b5a9a9c8"
   },
   "outputs": [],
   "source": [
    "learning_rate = 0.001\n",
    "epochs = 500\n",
    "patience = 100\n",
    "best_loss = float('inf')\n",
    "counter = 0"
   ]
  },
  {
   "cell_type": "code",
   "execution_count": 68,
   "id": "726174da-6551-46c8-96ea-9d8c1180a784",
   "metadata": {
    "id": "726174da-6551-46c8-96ea-9d8c1180a784"
   },
   "outputs": [],
   "source": [
    "mini_batch_learning_loss=[]\n",
    "mini_batch_validation_loss=[]\n",
    "loss_function = nn.CrossEntropyLoss()\n",
    "model1 = Traffic(compressed_train_tensor.shape[1])\n",
    "optimizer1 = optim.Adam(model1.parameters(), lr=learning_rate)\n"
   ]
  },
  {
   "cell_type": "code",
   "execution_count": 69,
   "id": "8c6c5286-d96c-4113-aba0-b97af7f64f23",
   "metadata": {
    "id": "8c6c5286-d96c-4113-aba0-b97af7f64f23"
   },
   "outputs": [
    {
     "name": "stdout",
     "output_type": "stream",
     "text": [
      "Epoch [1/500], Loss: 1.1373, Val Loss: 1.1054\n",
      "Epoch [2/500], Loss: 1.1058, Val Loss: 1.0892\n",
      "Epoch [3/500], Loss: 1.0994, Val Loss: 1.0835\n",
      "Epoch [4/500], Loss: 1.0803, Val Loss: 1.0633\n",
      "Epoch [5/500], Loss: 1.0613, Val Loss: 1.0439\n",
      "Epoch [6/500], Loss: 1.0465, Val Loss: 1.0056\n",
      "Epoch [7/500], Loss: 1.0175, Val Loss: 0.9622\n",
      "Epoch [8/500], Loss: 0.9777, Val Loss: 0.9134\n",
      "Epoch [9/500], Loss: 0.9251, Val Loss: 0.8284\n",
      "Epoch [10/500], Loss: 0.8982, Val Loss: 0.7734\n",
      "Epoch [11/500], Loss: 0.8478, Val Loss: 0.7607\n",
      "Epoch [12/500], Loss: 0.8322, Val Loss: 0.7624\n",
      "Epoch [13/500], Loss: 0.8162, Val Loss: 0.7800\n",
      "Epoch [14/500], Loss: 0.8056, Val Loss: 0.6699\n",
      "Epoch [15/500], Loss: 0.7606, Val Loss: 0.6671\n",
      "Epoch [16/500], Loss: 0.7694, Val Loss: 0.6401\n",
      "Epoch [17/500], Loss: 0.7421, Val Loss: 0.6734\n",
      "Epoch [18/500], Loss: 0.7060, Val Loss: 0.5736\n",
      "Epoch [19/500], Loss: 0.6784, Val Loss: 0.6519\n",
      "Epoch [20/500], Loss: 0.7035, Val Loss: 0.5595\n",
      "Epoch [21/500], Loss: 0.6654, Val Loss: 0.6162\n",
      "Epoch [22/500], Loss: 0.6689, Val Loss: 0.5556\n",
      "Epoch [23/500], Loss: 0.6410, Val Loss: 0.5833\n",
      "Epoch [24/500], Loss: 0.6666, Val Loss: 0.5848\n",
      "Epoch [25/500], Loss: 0.6416, Val Loss: 0.6293\n",
      "Epoch [26/500], Loss: 0.6143, Val Loss: 0.6356\n",
      "Epoch [27/500], Loss: 0.5860, Val Loss: 0.5869\n",
      "Epoch [28/500], Loss: 0.6102, Val Loss: 0.5971\n",
      "Epoch [29/500], Loss: 0.6056, Val Loss: 0.5607\n",
      "Epoch [30/500], Loss: 0.5909, Val Loss: 0.5878\n",
      "Epoch [31/500], Loss: 0.6002, Val Loss: 0.5522\n",
      "Epoch [32/500], Loss: 0.6010, Val Loss: 0.6173\n",
      "Epoch [33/500], Loss: 0.5990, Val Loss: 0.5274\n",
      "Epoch [34/500], Loss: 0.5619, Val Loss: 0.6218\n",
      "Epoch [35/500], Loss: 0.5852, Val Loss: 0.5775\n",
      "Epoch [36/500], Loss: 0.5759, Val Loss: 0.5997\n",
      "Epoch [37/500], Loss: 0.5623, Val Loss: 0.5225\n",
      "Epoch [38/500], Loss: 0.5506, Val Loss: 0.4948\n",
      "Epoch [39/500], Loss: 0.5551, Val Loss: 0.7190\n",
      "Epoch [40/500], Loss: 0.5515, Val Loss: 0.5116\n",
      "Epoch [41/500], Loss: 0.5807, Val Loss: 0.5521\n",
      "Epoch [42/500], Loss: 0.5786, Val Loss: 0.6516\n",
      "Epoch [43/500], Loss: 0.5326, Val Loss: 0.5530\n",
      "Epoch [44/500], Loss: 0.5256, Val Loss: 0.4850\n",
      "Epoch [45/500], Loss: 0.4891, Val Loss: 0.6012\n",
      "Epoch [46/500], Loss: 0.5285, Val Loss: 0.4861\n",
      "Epoch [47/500], Loss: 0.4976, Val Loss: 0.5175\n",
      "Epoch [48/500], Loss: 0.5242, Val Loss: 0.4775\n",
      "Epoch [49/500], Loss: 0.5236, Val Loss: 0.4943\n",
      "Epoch [50/500], Loss: 0.5415, Val Loss: 0.4381\n",
      "Epoch [51/500], Loss: 0.5212, Val Loss: 0.5577\n",
      "Epoch [52/500], Loss: 0.4892, Val Loss: 0.5119\n",
      "Epoch [53/500], Loss: 0.4910, Val Loss: 0.4909\n",
      "Epoch [54/500], Loss: 0.5097, Val Loss: 0.4637\n",
      "Epoch [55/500], Loss: 0.4933, Val Loss: 0.5352\n",
      "Epoch [56/500], Loss: 0.4656, Val Loss: 0.4902\n",
      "Epoch [57/500], Loss: 0.4864, Val Loss: 0.5327\n",
      "Epoch [58/500], Loss: 0.5081, Val Loss: 0.3850\n",
      "Epoch [59/500], Loss: 0.4690, Val Loss: 0.5168\n",
      "Epoch [60/500], Loss: 0.4981, Val Loss: 0.4195\n",
      "Epoch [61/500], Loss: 0.4903, Val Loss: 0.5406\n",
      "Epoch [62/500], Loss: 0.4925, Val Loss: 0.4825\n",
      "Epoch [63/500], Loss: 0.4943, Val Loss: 0.4696\n",
      "Epoch [64/500], Loss: 0.4855, Val Loss: 0.4819\n",
      "Epoch [65/500], Loss: 0.4929, Val Loss: 0.5163\n",
      "Epoch [66/500], Loss: 0.4729, Val Loss: 0.5228\n",
      "Epoch [67/500], Loss: 0.4587, Val Loss: 0.5075\n",
      "Epoch [68/500], Loss: 0.4430, Val Loss: 0.4998\n",
      "Epoch [69/500], Loss: 0.4803, Val Loss: 0.6075\n",
      "Epoch [70/500], Loss: 0.4815, Val Loss: 0.5650\n",
      "Epoch [71/500], Loss: 0.4623, Val Loss: 0.5507\n",
      "Epoch [72/500], Loss: 0.5143, Val Loss: 0.5842\n",
      "Epoch [73/500], Loss: 0.5152, Val Loss: 0.5902\n",
      "Epoch [74/500], Loss: 0.4578, Val Loss: 0.4848\n",
      "Epoch [75/500], Loss: 0.4677, Val Loss: 0.5510\n",
      "Epoch [76/500], Loss: 0.4838, Val Loss: 0.5988\n",
      "Epoch [77/500], Loss: 0.4835, Val Loss: 0.5474\n",
      "Epoch [78/500], Loss: 0.5095, Val Loss: 0.5678\n",
      "Epoch [79/500], Loss: 0.4604, Val Loss: 0.5067\n",
      "Epoch [80/500], Loss: 0.4660, Val Loss: 0.5072\n",
      "Epoch [81/500], Loss: 0.4428, Val Loss: 0.6285\n",
      "Epoch [82/500], Loss: 0.4683, Val Loss: 0.5914\n",
      "Epoch [83/500], Loss: 0.4683, Val Loss: 0.6177\n",
      "Epoch [84/500], Loss: 0.4620, Val Loss: 0.6788\n",
      "Epoch [85/500], Loss: 0.4545, Val Loss: 0.4715\n",
      "Epoch [86/500], Loss: 0.4995, Val Loss: 0.6627\n",
      "Epoch [87/500], Loss: 0.4752, Val Loss: 0.4481\n",
      "Epoch [88/500], Loss: 0.4506, Val Loss: 0.5876\n",
      "Epoch [89/500], Loss: 0.4460, Val Loss: 0.5751\n",
      "Epoch [90/500], Loss: 0.4431, Val Loss: 0.6150\n",
      "Epoch [91/500], Loss: 0.5015, Val Loss: 0.4672\n",
      "Epoch [92/500], Loss: 0.4304, Val Loss: 0.5083\n",
      "Epoch [93/500], Loss: 0.4701, Val Loss: 0.6155\n",
      "Epoch [94/500], Loss: 0.3942, Val Loss: 0.5662\n",
      "Epoch [95/500], Loss: 0.5001, Val Loss: 0.7072\n",
      "Epoch [96/500], Loss: 0.4755, Val Loss: 0.5558\n",
      "Epoch [97/500], Loss: 0.4577, Val Loss: 0.6941\n",
      "Epoch [98/500], Loss: 0.4295, Val Loss: 0.5110\n",
      "Epoch [99/500], Loss: 0.4582, Val Loss: 0.6600\n",
      "Epoch [100/500], Loss: 0.4419, Val Loss: 0.6083\n",
      "Epoch [101/500], Loss: 0.4128, Val Loss: 0.5265\n",
      "Epoch [102/500], Loss: 0.4765, Val Loss: 0.6044\n",
      "Epoch [103/500], Loss: 0.4024, Val Loss: 0.5029\n",
      "Epoch [104/500], Loss: 0.4755, Val Loss: 0.5351\n",
      "Epoch [105/500], Loss: 0.4815, Val Loss: 0.5280\n",
      "Epoch [106/500], Loss: 0.4457, Val Loss: 0.5075\n",
      "Epoch [107/500], Loss: 0.4609, Val Loss: 0.7072\n",
      "Epoch [108/500], Loss: 0.4351, Val Loss: 0.5951\n",
      "Epoch [109/500], Loss: 0.4819, Val Loss: 0.5866\n",
      "Epoch [110/500], Loss: 0.4356, Val Loss: 0.6010\n",
      "Epoch [111/500], Loss: 0.4308, Val Loss: 0.5505\n",
      "Epoch [112/500], Loss: 0.4485, Val Loss: 0.6073\n",
      "Epoch [113/500], Loss: 0.4393, Val Loss: 0.6258\n",
      "Epoch [114/500], Loss: 0.4773, Val Loss: 0.5725\n",
      "Epoch [115/500], Loss: 0.4737, Val Loss: 0.5312\n",
      "Epoch [116/500], Loss: 0.4425, Val Loss: 0.5168\n",
      "Epoch [117/500], Loss: 0.4715, Val Loss: 0.4638\n",
      "Epoch [118/500], Loss: 0.3935, Val Loss: 0.5268\n",
      "Epoch [119/500], Loss: 0.4169, Val Loss: 0.6463\n",
      "Epoch [120/500], Loss: 0.4704, Val Loss: 0.5615\n",
      "Epoch [121/500], Loss: 0.4191, Val Loss: 0.5644\n",
      "Epoch [122/500], Loss: 0.3982, Val Loss: 0.5690\n",
      "Epoch [123/500], Loss: 0.4570, Val Loss: 0.5886\n",
      "Epoch [124/500], Loss: 0.4650, Val Loss: 0.4589\n",
      "Epoch [125/500], Loss: 0.4572, Val Loss: 0.4623\n",
      "Epoch [126/500], Loss: 0.4255, Val Loss: 0.5062\n",
      "Epoch [127/500], Loss: 0.4247, Val Loss: 0.5230\n",
      "Epoch [128/500], Loss: 0.4362, Val Loss: 0.4959\n",
      "Epoch [129/500], Loss: 0.4627, Val Loss: 0.5154\n",
      "Epoch [130/500], Loss: 0.4579, Val Loss: 0.6096\n",
      "Epoch [131/500], Loss: 0.4211, Val Loss: 0.6912\n",
      "Epoch [132/500], Loss: 0.4643, Val Loss: 0.4303\n",
      "Epoch [133/500], Loss: 0.4716, Val Loss: 0.4710\n",
      "Epoch [134/500], Loss: 0.4134, Val Loss: 0.5870\n",
      "Epoch [135/500], Loss: 0.4528, Val Loss: 0.6107\n",
      "Epoch [136/500], Loss: 0.4374, Val Loss: 0.5370\n",
      "Epoch [137/500], Loss: 0.4622, Val Loss: 0.5291\n",
      "Epoch [138/500], Loss: 0.4294, Val Loss: 0.5925\n",
      "Epoch [139/500], Loss: 0.4379, Val Loss: 0.5754\n",
      "Epoch [140/500], Loss: 0.4317, Val Loss: 0.5293\n",
      "Epoch [141/500], Loss: 0.4510, Val Loss: 0.5417\n",
      "Epoch [142/500], Loss: 0.4045, Val Loss: 0.5916\n",
      "Epoch [143/500], Loss: 0.4158, Val Loss: 0.5156\n",
      "Epoch [144/500], Loss: 0.4564, Val Loss: 0.6173\n",
      "Epoch [145/500], Loss: 0.4290, Val Loss: 0.4763\n",
      "Epoch [146/500], Loss: 0.4342, Val Loss: 0.4838\n",
      "Epoch [147/500], Loss: 0.4242, Val Loss: 0.5411\n",
      "Epoch [148/500], Loss: 0.4025, Val Loss: 0.5317\n",
      "Epoch [149/500], Loss: 0.4206, Val Loss: 0.4411\n",
      "Epoch [150/500], Loss: 0.4109, Val Loss: 0.6544\n",
      "Epoch [151/500], Loss: 0.4594, Val Loss: 0.5728\n",
      "Epoch [152/500], Loss: 0.4600, Val Loss: 0.4988\n",
      "Epoch [153/500], Loss: 0.4395, Val Loss: 0.5850\n",
      "Epoch [154/500], Loss: 0.4398, Val Loss: 0.6101\n",
      "Epoch [155/500], Loss: 0.4427, Val Loss: 0.6357\n",
      "Epoch [156/500], Loss: 0.4628, Val Loss: 0.5520\n",
      "Epoch [157/500], Loss: 0.4068, Val Loss: 0.5747\n",
      "Epoch [158/500], Loss: 0.4522, Val Loss: 0.5647\n",
      "Early stopping at epoch 158\n"
     ]
    }
   ],
   "source": [
    "for epoch in range(epochs):\n",
    "    model1.train()\n",
    "    epoch_loss = 0.0\n",
    "\n",
    "    for batch_X, batch_y in train_loader1:\n",
    "\n",
    "        batch_y = batch_y.long()\n",
    "        outputs = model1(batch_X)\n",
    "        loss1 = loss_function(outputs, batch_y)\n",
    "        optimizer1.zero_grad()\n",
    "        loss1.backward()\n",
    "        optimizer1.step()\n",
    "\n",
    "        epoch_loss += loss1.item()\n",
    "    mini_batch_learning_loss.append(epoch_loss/len(train_loader1))\n",
    "\n",
    "    # Validation step After training\n",
    "    val_loss = 0.0\n",
    "    model1.eval()\n",
    "\n",
    "    with torch.no_grad():\n",
    "        for batch_X, batch_y in test_loader1:\n",
    "            outputs = model1(batch_X)\n",
    "            loss1 = loss_function(outputs, batch_y.long())\n",
    "            val_loss += loss1.item()\n",
    "        val_loss/=len(test_loader1)\n",
    "        mini_batch_validation_loss.append(val_loss)\n",
    "\n",
    "    print(f'Epoch [{epoch+1}/{epochs}], Loss: {epoch_loss/len(train_loader1):.4f}, Val Loss: {val_loss:.4f}')\n",
    "\n",
    "    # Early Stopping Logic\n",
    "    if val_loss < best_loss:\n",
    "        best_loss = val_loss\n",
    "        counter = 0\n",
    "        torch.save(model1.state_dict(), 'best_model1.pth')\n",
    "    else:\n",
    "        counter += 1\n",
    "        if counter >= patience:\n",
    "            print(f'Early stopping at epoch {epoch+1}')\n",
    "            break\n"
   ]
  },
  {
   "cell_type": "code",
   "execution_count": 70,
   "id": "bec138ad-3af0-4309-9af0-1e0cd04d8417",
   "metadata": {
    "id": "bec138ad-3af0-4309-9af0-1e0cd04d8417"
   },
   "outputs": [
    {
     "data": {
      "text/plain": [
       "<All keys matched successfully>"
      ]
     },
     "execution_count": 70,
     "metadata": {},
     "output_type": "execute_result"
    }
   ],
   "source": [
    "# Loading best model parameters\n",
    "model1.load_state_dict(torch.load('best_model1.pth'))"
   ]
  },
  {
   "cell_type": "code",
   "execution_count": 71,
   "id": "Tc9MxqsmykcL",
   "metadata": {
    "id": "Tc9MxqsmykcL"
   },
   "outputs": [
    {
     "name": "stdout",
     "output_type": "stream",
     "text": [
      "Confusion Matrix:\n",
      " tensor([[172,  12,   0],\n",
      "        [ 16, 161,   6],\n",
      "        [  0,  37, 136]])\n"
     ]
    },
    {
     "data": {
      "image/png": "[encoded data removed]",
      "text/plain": [
       "<Figure size 500x400 with 2 Axes>"
      ]
     },
     "metadata": {},
     "output_type": "display_data"
    },
    {
     "name": "stdout",
     "output_type": "stream",
     "text": [
      "Accuracy: 0.8685\n",
      "Precision: 0.8798\n",
      "Recall: 0.8669\n",
      "F1 Score: 0.8692\n"
     ]
    }
   ],
   "source": [
    "model1.eval()\n",
    "y_true = y_test_tensor.long()\n",
    "y_pred =torch.max(model1(compressed_test_tensor).data,1)[1]\n",
    "\n",
    "num_classes = 3\n",
    "\n",
    "# Computing confusion matrix\n",
    "conf_matrix = ConfusionMatrix(task=\"multiclass\", num_classes=num_classes)\n",
    "print(\"Confusion Matrix:\\n\", conf_matrix(y_pred, y_true))\n",
    "cm = conf_matrix(y_pred, y_true).cpu().numpy()\n",
    "\n",
    "# Plotting using Seaborn\n",
    "plt.figure(figsize=(5, 4))\n",
    "sns.heatmap(cm, annot=True, fmt=\"d\", cmap=\"Blues\", xticklabels=[\"Class 0\", \"Class 1\",\"Class 2\"], yticklabels=[\"Class 2\", \"Class 1\" ,\"Class 0\"])\n",
    "plt.xlabel(\"Predicted Label\")\n",
    "plt.ylabel(\"True Label\")\n",
    "plt.title(\"Confusion Matrix\")\n",
    "plt.show()\n",
    "\n",
    "# Computing evaluation metrics\n",
    "accuracy = Accuracy(task=\"multiclass\", num_classes=num_classes)\n",
    "precision = Precision(task=\"multiclass\", num_classes=num_classes, average='macro')\n",
    "recall = Recall(task=\"multiclass\", num_classes=num_classes, average='macro')\n",
    "f1_score = F1Score(task=\"multiclass\", num_classes=num_classes, average='macro')\n",
    "\n",
    "print(f\"Accuracy: {accuracy(y_pred, y_true):.4f}\")\n",
    "print(f\"Precision: {precision(y_pred, y_true):.4f}\")\n",
    "print(f\"Recall: {recall(y_pred, y_true):.4f}\")\n",
    "print(f\"F1 Score: {f1_score(y_pred, y_true):.4f}\")\n"
   ]
  },
  {
   "cell_type": "code",
   "execution_count": 72,
   "id": "xNHn0TG4iuhM",
   "metadata": {
    "id": "xNHn0TG4iuhM"
   },
   "outputs": [
    {
     "data": {
      "image/png": "[encoded data removed]",
      "text/plain": [
       "<Figure size 640x480 with 1 Axes>"
      ]
     },
     "metadata": {},
     "output_type": "display_data"
    }
   ],
   "source": [
    "plt.plot(mini_batch_learning_loss, label='mini_batch__learning_loss', color='blue')\n",
    "plt.plot(mini_batch_validation_loss, label='mini_batch__validation_loss', color='red')\n",
    "\n",
    "plt.xlabel('Epochs')\n",
    "plt.ylabel('Loss')\n",
    "plt.title('Training & Validation Loss')\n",
    "plt.legend()\n",
    "plt.grid()\n",
    "plt.show()"
   ]
  },
  {
   "cell_type": "markdown",
   "id": "XxVSDmZZbT4h",
   "metadata": {
    "id": "XxVSDmZZbT4h"
   },
   "source": [
    "### using batch gradient descent"
   ]
  },
  {
   "cell_type": "code",
   "execution_count": 73,
   "id": "jZIHUAUwcXKJ",
   "metadata": {
    "id": "jZIHUAUwcXKJ"
   },
   "outputs": [],
   "source": [
    "train_loader =DataLoader(X_train_tensor, batch_size=len(X_train_tensor), shuffle=True)\n",
    "test_loader =DataLoader(X_test_tensor, batch_size=len(X_test_tensor), shuffle=False)"
   ]
  },
  {
   "cell_type": "code",
   "execution_count": 74,
   "id": "gWrZkhpVba8p",
   "metadata": {
    "id": "gWrZkhpVba8p"
   },
   "outputs": [],
   "source": [
    "learning_rate = 0.02\n",
    "epochs = 500\n",
    "patience = 50\n",
    "best_loss = float('inf')\n",
    "counter = 0"
   ]
  },
  {
   "cell_type": "code",
   "execution_count": 75,
   "id": "d8SHZMFNbh-7",
   "metadata": {
    "id": "d8SHZMFNbh-7"
   },
   "outputs": [],
   "source": [
    "batch_learning_loss=[]\n",
    "batch_validation_loss=[]\n",
    "loss_function =  nn.CrossEntropyLoss()\n",
    "model1 = Traffic(compressed_train_tensor.shape[1])\n",
    "optimizer1 = optim.Adam(model1.parameters(), lr=learning_rate)"
   ]
  },
  {
   "cell_type": "code",
   "execution_count": 76,
   "id": "2ZGvCnD8biqz",
   "metadata": {
    "id": "2ZGvCnD8biqz"
   },
   "outputs": [
    {
     "name": "stdout",
     "output_type": "stream",
     "text": [
      "Epoch [1/500], Loss: 1.1092, Val Loss: 1.0634\n",
      "Epoch [2/500], Loss: 0.9601, Val Loss: 0.9337\n",
      "Epoch [3/500], Loss: 0.7457, Val Loss: 0.6625\n",
      "Epoch [4/500], Loss: 0.6703, Val Loss: 0.6373\n",
      "Epoch [5/500], Loss: 0.6418, Val Loss: 0.4701\n",
      "Epoch [6/500], Loss: 0.6333, Val Loss: 0.6489\n",
      "Epoch [7/500], Loss: 0.5885, Val Loss: 0.4962\n",
      "Epoch [8/500], Loss: 0.6150, Val Loss: 0.5029\n",
      "Epoch [9/500], Loss: 0.6173, Val Loss: 0.7155\n",
      "Epoch [10/500], Loss: 0.6071, Val Loss: 0.4689\n",
      "Epoch [11/500], Loss: 0.5654, Val Loss: 0.5625\n",
      "Epoch [12/500], Loss: 0.5619, Val Loss: 0.4658\n",
      "Epoch [13/500], Loss: 0.5370, Val Loss: 0.4488\n",
      "Epoch [14/500], Loss: 0.5678, Val Loss: 0.5211\n",
      "Epoch [15/500], Loss: 0.5528, Val Loss: 0.4888\n",
      "Epoch [16/500], Loss: 0.5554, Val Loss: 0.4267\n",
      "Epoch [17/500], Loss: 0.5617, Val Loss: 0.4736\n",
      "Epoch [18/500], Loss: 0.5560, Val Loss: 0.5466\n",
      "Epoch [19/500], Loss: 0.5235, Val Loss: 0.4066\n",
      "Epoch [20/500], Loss: 0.5419, Val Loss: 0.4321\n",
      "Epoch [21/500], Loss: 0.5164, Val Loss: 0.3718\n",
      "Epoch [22/500], Loss: 0.5202, Val Loss: 0.3870\n",
      "Epoch [23/500], Loss: 0.5318, Val Loss: 0.4358\n",
      "Epoch [24/500], Loss: 0.5482, Val Loss: 0.5002\n",
      "Epoch [25/500], Loss: 0.5227, Val Loss: 0.4069\n",
      "Epoch [26/500], Loss: 0.5397, Val Loss: 0.3998\n",
      "Epoch [27/500], Loss: 0.5139, Val Loss: 0.4549\n",
      "Epoch [28/500], Loss: 0.5216, Val Loss: 0.4102\n",
      "Epoch [29/500], Loss: 0.5008, Val Loss: 0.6706\n",
      "Epoch [30/500], Loss: 0.5529, Val Loss: 0.4985\n",
      "Epoch [31/500], Loss: 0.4981, Val Loss: 0.5075\n",
      "Epoch [32/500], Loss: 0.5229, Val Loss: 0.4387\n",
      "Epoch [33/500], Loss: 0.5096, Val Loss: 0.3805\n",
      "Epoch [34/500], Loss: 0.5157, Val Loss: 0.4368\n",
      "Epoch [35/500], Loss: 0.5127, Val Loss: 0.4456\n",
      "Epoch [36/500], Loss: 0.5024, Val Loss: 0.6809\n",
      "Epoch [37/500], Loss: 0.5436, Val Loss: 0.4433\n",
      "Epoch [38/500], Loss: 0.4914, Val Loss: 0.5036\n",
      "Epoch [39/500], Loss: 0.5467, Val Loss: 0.6123\n",
      "Epoch [40/500], Loss: 0.5175, Val Loss: 0.4802\n",
      "Epoch [41/500], Loss: 0.4725, Val Loss: 0.5237\n",
      "Epoch [42/500], Loss: 0.4830, Val Loss: 0.4626\n",
      "Epoch [43/500], Loss: 0.5202, Val Loss: 0.5321\n",
      "Epoch [44/500], Loss: 0.5332, Val Loss: 0.5859\n",
      "Epoch [45/500], Loss: 0.5200, Val Loss: 0.4704\n",
      "Epoch [46/500], Loss: 0.4801, Val Loss: 0.4336\n",
      "Epoch [47/500], Loss: 0.5006, Val Loss: 0.5682\n",
      "Epoch [48/500], Loss: 0.4918, Val Loss: 0.4830\n",
      "Epoch [49/500], Loss: 0.5124, Val Loss: 0.4595\n",
      "Epoch [50/500], Loss: 0.4962, Val Loss: 0.5427\n",
      "Epoch [51/500], Loss: 0.5109, Val Loss: 0.4145\n",
      "Epoch [52/500], Loss: 0.4681, Val Loss: 0.4516\n",
      "Epoch [53/500], Loss: 0.4812, Val Loss: 0.3884\n",
      "Epoch [54/500], Loss: 0.5151, Val Loss: 0.4784\n",
      "Epoch [55/500], Loss: 0.5213, Val Loss: 0.4131\n",
      "Epoch [56/500], Loss: 0.4737, Val Loss: 0.4103\n",
      "Epoch [57/500], Loss: 0.4584, Val Loss: 0.3780\n",
      "Epoch [58/500], Loss: 0.4748, Val Loss: 0.5200\n",
      "Epoch [59/500], Loss: 0.4560, Val Loss: 0.4107\n",
      "Epoch [60/500], Loss: 0.4724, Val Loss: 0.5650\n",
      "Epoch [61/500], Loss: 0.4740, Val Loss: 0.5188\n",
      "Epoch [62/500], Loss: 0.5266, Val Loss: 0.5902\n",
      "Epoch [63/500], Loss: 0.4614, Val Loss: 0.4985\n",
      "Epoch [64/500], Loss: 0.4901, Val Loss: 0.5144\n",
      "Epoch [65/500], Loss: 0.4663, Val Loss: 0.4240\n",
      "Epoch [66/500], Loss: 0.4982, Val Loss: 0.4588\n",
      "Epoch [67/500], Loss: 0.4647, Val Loss: 0.4705\n",
      "Epoch [68/500], Loss: 0.4849, Val Loss: 0.4056\n",
      "Epoch [69/500], Loss: 0.4909, Val Loss: 0.5007\n",
      "Epoch [70/500], Loss: 0.4633, Val Loss: 0.4609\n",
      "Epoch [71/500], Loss: 0.5114, Val Loss: 0.4462\n",
      "Early stopping at epoch 71\n"
     ]
    }
   ],
   "source": [
    "for epoch in range(epochs):\n",
    "    model1.train()\n",
    "    epoch_loss = 0.0\n",
    "\n",
    "    for batch_X, batch_y in train_loader1:\n",
    "        batch_y = batch_y.long()\n",
    "        outputs = model1(batch_X)\n",
    "        loss1 = loss_function(outputs, batch_y)\n",
    "        optimizer1.zero_grad()\n",
    "        loss1.backward()\n",
    "        optimizer1.step()\n",
    "\n",
    "        epoch_loss += loss1.item()\n",
    "    batch_learning_loss.append(epoch_loss/len(train_loader1))\n",
    "\n",
    "    # Validation step After training\n",
    "    val_loss = 0.0\n",
    "    model1.eval()\n",
    "\n",
    "    with torch.no_grad():\n",
    "        for batch_X, batch_y in test_loader1:\n",
    "            outputs = model1(batch_X)\n",
    "            loss1 = loss_function(outputs, batch_y.long())\n",
    "            val_loss += loss1.item()\n",
    "        val_loss/=len(test_loader1)\n",
    "        batch_validation_loss.append(val_loss)\n",
    "\n",
    "    print(f'Epoch [{epoch+1}/{epochs}], Loss: {epoch_loss/len(train_loader1):.4f}, Val Loss: {val_loss:.4f}')\n",
    "\n",
    "    # Early Stopping Logic\n",
    "    if val_loss < best_loss:\n",
    "        best_loss = val_loss\n",
    "        counter = 0\n",
    "        torch.save(model1.state_dict(), 'best_model1.pth')\n",
    "    else:\n",
    "        counter += 1\n",
    "        if counter >= patience:\n",
    "            print(f'Early stopping at epoch {epoch+1}')\n",
    "            break\n"
   ]
  },
  {
   "cell_type": "code",
   "execution_count": 77,
   "id": "REHwnxHUbi9W",
   "metadata": {
    "id": "REHwnxHUbi9W"
   },
   "outputs": [
    {
     "data": {
      "text/plain": [
       "<All keys matched successfully>"
      ]
     },
     "execution_count": 77,
     "metadata": {},
     "output_type": "execute_result"
    }
   ],
   "source": [
    "# Loading best model parameters\n",
    "model1.load_state_dict(torch.load('best_model1.pth'))"
   ]
  },
  {
   "cell_type": "code",
   "execution_count": 78,
   "id": "ur8Tg4zzbjNx",
   "metadata": {
    "id": "ur8Tg4zzbjNx"
   },
   "outputs": [
    {
     "name": "stdout",
     "output_type": "stream",
     "text": [
      "Confusion Matrix:\n",
      " tensor([[158,  26,   0],\n",
      "        [  9, 147,  27],\n",
      "        [  0,   9, 164]])\n"
     ]
    },
    {
     "data": {
      "image/png": "[encoded data removed]",
      "text/plain": [
       "<Figure size 500x400 with 2 Axes>"
      ]
     },
     "metadata": {},
     "output_type": "display_data"
    },
    {
     "name": "stdout",
     "output_type": "stream",
     "text": [
      "Accuracy: 0.8685\n",
      "Precision: 0.8708\n",
      "Recall: 0.8700\n",
      "F1 Score: 0.8690\n"
     ]
    }
   ],
   "source": [
    "model1.eval()\n",
    "y_true = y_test_tensor.long()\n",
    "y_pred =torch.max(model1(compressed_test_tensor).data,1)[1]\n",
    "\n",
    "num_classes = 3\n",
    "\n",
    "# Computing confusion matrix\n",
    "conf_matrix = ConfusionMatrix(task=\"multiclass\", num_classes=num_classes)\n",
    "print(\"Confusion Matrix:\\n\", conf_matrix(y_pred, y_true))\n",
    "cm = conf_matrix(y_pred, y_true).cpu().numpy()\n",
    "\n",
    "# Plotting using Seaborn\n",
    "plt.figure(figsize=(5, 4))\n",
    "sns.heatmap(cm, annot=True, fmt=\"d\", cmap=\"Blues\", xticklabels=[\"Class 0\", \"Class 1\",\"Class 2\"], yticklabels=[\"Class 2\", \"Class 1\" ,\"Class 0\"])\n",
    "plt.xlabel(\"Predicted Label\")\n",
    "plt.ylabel(\"True Label\")\n",
    "plt.title(\"Confusion Matrix\")\n",
    "plt.show()\n",
    "\n",
    "# Computing evaluation metrics\n",
    "accuracy = Accuracy(task=\"multiclass\", num_classes=num_classes)\n",
    "precision = Precision(task=\"multiclass\", num_classes=num_classes, average='macro')\n",
    "recall = Recall(task=\"multiclass\", num_classes=num_classes, average='macro')\n",
    "f1_score = F1Score(task=\"multiclass\", num_classes=num_classes, average='macro')\n",
    "\n",
    "print(f\"Accuracy: {accuracy(y_pred, y_true):.4f}\")\n",
    "print(f\"Precision: {precision(y_pred, y_true):.4f}\")\n",
    "print(f\"Recall: {recall(y_pred, y_true):.4f}\")\n",
    "print(f\"F1 Score: {f1_score(y_pred, y_true):.4f}\")\n"
   ]
  },
  {
   "cell_type": "code",
   "execution_count": 79,
   "id": "HKEwtxrccB4L",
   "metadata": {
    "id": "HKEwtxrccB4L"
   },
   "outputs": [
    {
     "data": {
      "image/png": "[encoded data removed]",
      "text/plain": [
       "<Figure size 640x480 with 1 Axes>"
      ]
     },
     "metadata": {},
     "output_type": "display_data"
    }
   ],
   "source": [
    "plt.plot(batch_learning_loss, label='batch_learning_loss', color='green')\n",
    "plt.plot(batch_validation_loss, label='batch_validation_loss', color='yellow')\n",
    "\n",
    "plt.xlabel('Epochs')\n",
    "plt.ylabel('Loss')\n",
    "plt.title('Training & Validation Loss')\n",
    "plt.legend()\n",
    "plt.grid()\n",
    "plt.show()"
   ]
  },
  {
   "cell_type": "markdown",
   "id": "QKR6WIGddK4b",
   "metadata": {
    "id": "QKR6WIGddK4b"
   },
   "source": [
    "### using stochastic gradient descent"
   ]
  },
  {
   "cell_type": "code",
   "execution_count": 80,
   "id": "U2CKMDaZHbhW",
   "metadata": {
    "id": "U2CKMDaZHbhW"
   },
   "outputs": [],
   "source": [
    "train_loader =DataLoader(X_train_tensor, batch_size=2, shuffle=True)\n",
    "test_loader =DataLoader(X_test_tensor, batch_size=10, shuffle=False)"
   ]
  },
  {
   "cell_type": "code",
   "execution_count": 81,
   "id": "fFBr0h83cC-X",
   "metadata": {
    "id": "fFBr0h83cC-X"
   },
   "outputs": [],
   "source": [
    "learning_rate = 0.02\n",
    "epochs = 500\n",
    "patience = 50\n",
    "best_loss = float('inf')\n",
    "counter = 0"
   ]
  },
  {
   "cell_type": "code",
   "execution_count": 82,
   "id": "Vtsog-pIcDHx",
   "metadata": {
    "id": "Vtsog-pIcDHx"
   },
   "outputs": [],
   "source": [
    "stochastic_learning_loss=[]\n",
    "stochastic_validation_loss=[]\n",
    "loss_function =  nn.CrossEntropyLoss()\n",
    "model1 = Traffic(compressed_train_tensor.shape[1])\n",
    "optimizer1 = optim.Adagrad(model1.parameters(), lr=learning_rate)"
   ]
  },
  {
   "cell_type": "code",
   "execution_count": 83,
   "id": "d-V8DhLWHGMp",
   "metadata": {
    "id": "d-V8DhLWHGMp"
   },
   "outputs": [
    {
     "name": "stdout",
     "output_type": "stream",
     "text": [
      "Epoch [1/500], Loss: 1.0994, Val Loss: 1.0694\n",
      "Epoch [2/500], Loss: 1.0723, Val Loss: 1.0256\n",
      "Epoch [3/500], Loss: 1.0321, Val Loss: 0.9510\n",
      "Epoch [4/500], Loss: 0.9842, Val Loss: 0.9352\n",
      "Epoch [5/500], Loss: 0.9343, Val Loss: 0.8429\n",
      "Epoch [6/500], Loss: 0.8862, Val Loss: 0.7924\n",
      "Epoch [7/500], Loss: 0.8664, Val Loss: 0.8095\n",
      "Epoch [8/500], Loss: 0.8503, Val Loss: 0.7228\n",
      "Epoch [9/500], Loss: 0.8349, Val Loss: 0.7388\n",
      "Epoch [10/500], Loss: 0.8002, Val Loss: 0.6839\n",
      "Epoch [11/500], Loss: 0.7845, Val Loss: 0.7190\n",
      "Epoch [12/500], Loss: 0.7888, Val Loss: 0.6919\n",
      "Epoch [13/500], Loss: 0.7624, Val Loss: 0.6614\n",
      "Epoch [14/500], Loss: 0.7629, Val Loss: 0.6374\n",
      "Epoch [15/500], Loss: 0.7423, Val Loss: 0.6435\n",
      "Epoch [16/500], Loss: 0.7720, Val Loss: 0.6414\n",
      "Epoch [17/500], Loss: 0.7241, Val Loss: 0.6037\n",
      "Epoch [18/500], Loss: 0.7174, Val Loss: 0.6139\n",
      "Epoch [19/500], Loss: 0.7289, Val Loss: 0.5837\n",
      "Epoch [20/500], Loss: 0.7203, Val Loss: 0.5647\n",
      "Epoch [21/500], Loss: 0.7318, Val Loss: 0.5991\n",
      "Epoch [22/500], Loss: 0.7004, Val Loss: 0.5583\n",
      "Epoch [23/500], Loss: 0.7003, Val Loss: 0.5566\n",
      "Epoch [24/500], Loss: 0.6946, Val Loss: 0.5651\n",
      "Epoch [25/500], Loss: 0.7260, Val Loss: 0.5220\n",
      "Epoch [26/500], Loss: 0.6599, Val Loss: 0.5402\n",
      "Epoch [27/500], Loss: 0.7096, Val Loss: 0.5501\n",
      "Epoch [28/500], Loss: 0.6620, Val Loss: 0.5289\n",
      "Epoch [29/500], Loss: 0.6760, Val Loss: 0.5641\n",
      "Epoch [30/500], Loss: 0.6498, Val Loss: 0.5225\n",
      "Epoch [31/500], Loss: 0.6635, Val Loss: 0.4909\n",
      "Epoch [32/500], Loss: 0.6341, Val Loss: 0.5160\n",
      "Epoch [33/500], Loss: 0.6331, Val Loss: 0.4967\n",
      "Epoch [34/500], Loss: 0.6466, Val Loss: 0.5211\n",
      "Epoch [35/500], Loss: 0.6275, Val Loss: 0.5102\n",
      "Epoch [36/500], Loss: 0.6114, Val Loss: 0.5016\n",
      "Epoch [37/500], Loss: 0.5978, Val Loss: 0.5486\n",
      "Epoch [38/500], Loss: 0.6343, Val Loss: 0.5166\n",
      "Epoch [39/500], Loss: 0.6330, Val Loss: 0.5299\n",
      "Epoch [40/500], Loss: 0.5894, Val Loss: 0.4819\n",
      "Epoch [41/500], Loss: 0.6014, Val Loss: 0.5005\n",
      "Epoch [42/500], Loss: 0.5995, Val Loss: 0.5263\n",
      "Epoch [43/500], Loss: 0.5966, Val Loss: 0.5055\n",
      "Epoch [44/500], Loss: 0.6234, Val Loss: 0.4757\n",
      "Epoch [45/500], Loss: 0.5811, Val Loss: 0.4963\n",
      "Epoch [46/500], Loss: 0.5875, Val Loss: 0.4786\n",
      "Epoch [47/500], Loss: 0.5968, Val Loss: 0.5385\n",
      "Epoch [48/500], Loss: 0.5874, Val Loss: 0.4849\n",
      "Epoch [49/500], Loss: 0.6088, Val Loss: 0.5283\n",
      "Epoch [50/500], Loss: 0.5749, Val Loss: 0.5252\n",
      "Epoch [51/500], Loss: 0.5641, Val Loss: 0.5003\n",
      "Epoch [52/500], Loss: 0.5867, Val Loss: 0.5149\n",
      "Epoch [53/500], Loss: 0.5959, Val Loss: 0.4982\n",
      "Epoch [54/500], Loss: 0.5620, Val Loss: 0.5024\n",
      "Epoch [55/500], Loss: 0.5531, Val Loss: 0.5126\n",
      "Epoch [56/500], Loss: 0.5578, Val Loss: 0.4759\n",
      "Epoch [57/500], Loss: 0.5176, Val Loss: 0.4865\n",
      "Epoch [58/500], Loss: 0.5682, Val Loss: 0.5080\n",
      "Epoch [59/500], Loss: 0.5707, Val Loss: 0.5071\n",
      "Epoch [60/500], Loss: 0.5636, Val Loss: 0.5071\n",
      "Epoch [61/500], Loss: 0.5607, Val Loss: 0.4782\n",
      "Epoch [62/500], Loss: 0.5535, Val Loss: 0.5265\n",
      "Epoch [63/500], Loss: 0.5415, Val Loss: 0.4494\n",
      "Epoch [64/500], Loss: 0.5231, Val Loss: 0.5103\n",
      "Epoch [65/500], Loss: 0.5027, Val Loss: 0.4990\n",
      "Epoch [66/500], Loss: 0.5063, Val Loss: 0.4570\n",
      "Epoch [67/500], Loss: 0.5130, Val Loss: 0.5200\n",
      "Epoch [68/500], Loss: 0.5046, Val Loss: 0.4743\n",
      "Epoch [69/500], Loss: 0.5461, Val Loss: 0.4713\n",
      "Epoch [70/500], Loss: 0.5096, Val Loss: 0.4591\n",
      "Epoch [71/500], Loss: 0.5417, Val Loss: 0.4654\n",
      "Epoch [72/500], Loss: 0.5301, Val Loss: 0.4773\n",
      "Epoch [73/500], Loss: 0.5018, Val Loss: 0.4547\n",
      "Epoch [74/500], Loss: 0.5267, Val Loss: 0.4672\n",
      "Epoch [75/500], Loss: 0.5253, Val Loss: 0.4746\n",
      "Epoch [76/500], Loss: 0.5038, Val Loss: 0.5320\n",
      "Epoch [77/500], Loss: 0.4890, Val Loss: 0.4848\n",
      "Epoch [78/500], Loss: 0.5016, Val Loss: 0.4922\n",
      "Epoch [79/500], Loss: 0.5351, Val Loss: 0.4743\n",
      "Epoch [80/500], Loss: 0.4930, Val Loss: 0.4639\n",
      "Epoch [81/500], Loss: 0.4801, Val Loss: 0.4686\n",
      "Epoch [82/500], Loss: 0.5067, Val Loss: 0.4554\n",
      "Epoch [83/500], Loss: 0.5344, Val Loss: 0.4387\n",
      "Epoch [84/500], Loss: 0.5262, Val Loss: 0.4942\n",
      "Epoch [85/500], Loss: 0.4942, Val Loss: 0.4636\n",
      "Epoch [86/500], Loss: 0.4898, Val Loss: 0.4679\n",
      "Epoch [87/500], Loss: 0.5064, Val Loss: 0.4748\n",
      "Epoch [88/500], Loss: 0.5215, Val Loss: 0.4846\n",
      "Epoch [89/500], Loss: 0.4956, Val Loss: 0.5007\n",
      "Epoch [90/500], Loss: 0.4894, Val Loss: 0.4572\n",
      "Epoch [91/500], Loss: 0.4827, Val Loss: 0.4639\n",
      "Epoch [92/500], Loss: 0.5057, Val Loss: 0.4249\n",
      "Epoch [93/500], Loss: 0.5012, Val Loss: 0.4898\n",
      "Epoch [94/500], Loss: 0.4979, Val Loss: 0.5101\n",
      "Epoch [95/500], Loss: 0.4895, Val Loss: 0.4853\n",
      "Epoch [96/500], Loss: 0.4779, Val Loss: 0.4567\n",
      "Epoch [97/500], Loss: 0.4890, Val Loss: 0.4758\n",
      "Epoch [98/500], Loss: 0.5084, Val Loss: 0.4602\n",
      "Epoch [99/500], Loss: 0.4810, Val Loss: 0.4566\n",
      "Epoch [100/500], Loss: 0.4879, Val Loss: 0.4646\n",
      "Epoch [101/500], Loss: 0.4913, Val Loss: 0.4864\n",
      "Epoch [102/500], Loss: 0.4972, Val Loss: 0.5387\n",
      "Epoch [103/500], Loss: 0.4897, Val Loss: 0.4945\n",
      "Epoch [104/500], Loss: 0.5002, Val Loss: 0.5005\n",
      "Epoch [105/500], Loss: 0.4859, Val Loss: 0.4911\n",
      "Epoch [106/500], Loss: 0.4831, Val Loss: 0.4486\n",
      "Epoch [107/500], Loss: 0.4996, Val Loss: 0.4630\n",
      "Epoch [108/500], Loss: 0.4541, Val Loss: 0.5313\n",
      "Epoch [109/500], Loss: 0.4862, Val Loss: 0.4941\n",
      "Epoch [110/500], Loss: 0.4940, Val Loss: 0.4503\n",
      "Epoch [111/500], Loss: 0.4975, Val Loss: 0.4903\n",
      "Epoch [112/500], Loss: 0.4633, Val Loss: 0.4907\n",
      "Epoch [113/500], Loss: 0.4680, Val Loss: 0.4717\n",
      "Epoch [114/500], Loss: 0.4853, Val Loss: 0.4458\n",
      "Epoch [115/500], Loss: 0.4883, Val Loss: 0.4986\n",
      "Epoch [116/500], Loss: 0.4880, Val Loss: 0.4545\n",
      "Epoch [117/500], Loss: 0.4778, Val Loss: 0.4122\n",
      "Epoch [118/500], Loss: 0.5196, Val Loss: 0.4547\n",
      "Epoch [119/500], Loss: 0.4801, Val Loss: 0.4624\n",
      "Epoch [120/500], Loss: 0.4386, Val Loss: 0.4837\n",
      "Epoch [121/500], Loss: 0.4789, Val Loss: 0.4708\n",
      "Epoch [122/500], Loss: 0.4572, Val Loss: 0.4119\n",
      "Epoch [123/500], Loss: 0.4685, Val Loss: 0.4532\n",
      "Epoch [124/500], Loss: 0.5149, Val Loss: 0.5860\n",
      "Epoch [125/500], Loss: 0.4656, Val Loss: 0.4597\n",
      "Epoch [126/500], Loss: 0.4703, Val Loss: 0.4606\n",
      "Epoch [127/500], Loss: 0.4942, Val Loss: 0.5039\n",
      "Epoch [128/500], Loss: 0.4646, Val Loss: 0.4729\n",
      "Epoch [129/500], Loss: 0.4815, Val Loss: 0.4438\n",
      "Epoch [130/500], Loss: 0.4541, Val Loss: 0.4151\n",
      "Epoch [131/500], Loss: 0.4846, Val Loss: 0.4907\n",
      "Epoch [132/500], Loss: 0.4678, Val Loss: 0.4827\n",
      "Epoch [133/500], Loss: 0.4668, Val Loss: 0.4505\n",
      "Epoch [134/500], Loss: 0.4512, Val Loss: 0.4676\n",
      "Epoch [135/500], Loss: 0.4548, Val Loss: 0.4407\n",
      "Epoch [136/500], Loss: 0.4538, Val Loss: 0.5016\n",
      "Epoch [137/500], Loss: 0.4410, Val Loss: 0.5145\n",
      "Epoch [138/500], Loss: 0.5048, Val Loss: 0.4501\n",
      "Epoch [139/500], Loss: 0.4754, Val Loss: 0.4400\n",
      "Epoch [140/500], Loss: 0.4734, Val Loss: 0.4744\n",
      "Epoch [141/500], Loss: 0.4548, Val Loss: 0.4770\n",
      "Epoch [142/500], Loss: 0.4373, Val Loss: 0.4865\n",
      "Epoch [143/500], Loss: 0.4700, Val Loss: 0.5272\n",
      "Epoch [144/500], Loss: 0.4785, Val Loss: 0.4974\n",
      "Epoch [145/500], Loss: 0.4689, Val Loss: 0.4833\n",
      "Epoch [146/500], Loss: 0.4624, Val Loss: 0.4192\n",
      "Epoch [147/500], Loss: 0.4538, Val Loss: 0.4616\n",
      "Epoch [148/500], Loss: 0.4950, Val Loss: 0.5210\n",
      "Epoch [149/500], Loss: 0.4874, Val Loss: 0.5466\n",
      "Epoch [150/500], Loss: 0.4441, Val Loss: 0.5415\n",
      "Epoch [151/500], Loss: 0.4511, Val Loss: 0.4550\n",
      "Epoch [152/500], Loss: 0.4734, Val Loss: 0.5346\n",
      "Epoch [153/500], Loss: 0.4815, Val Loss: 0.4305\n",
      "Epoch [154/500], Loss: 0.4773, Val Loss: 0.5110\n",
      "Epoch [155/500], Loss: 0.4752, Val Loss: 0.4562\n",
      "Epoch [156/500], Loss: 0.4521, Val Loss: 0.5396\n",
      "Epoch [157/500], Loss: 0.4477, Val Loss: 0.4728\n",
      "Epoch [158/500], Loss: 0.4651, Val Loss: 0.5123\n",
      "Epoch [159/500], Loss: 0.4520, Val Loss: 0.4511\n",
      "Epoch [160/500], Loss: 0.4985, Val Loss: 0.4954\n",
      "Epoch [161/500], Loss: 0.4625, Val Loss: 0.4775\n",
      "Epoch [162/500], Loss: 0.4869, Val Loss: 0.4097\n",
      "Epoch [163/500], Loss: 0.4585, Val Loss: 0.4563\n",
      "Epoch [164/500], Loss: 0.4569, Val Loss: 0.5371\n",
      "Epoch [165/500], Loss: 0.4263, Val Loss: 0.4848\n",
      "Epoch [166/500], Loss: 0.4653, Val Loss: 0.4317\n",
      "Epoch [167/500], Loss: 0.4591, Val Loss: 0.4742\n",
      "Epoch [168/500], Loss: 0.4416, Val Loss: 0.4778\n",
      "Epoch [169/500], Loss: 0.4149, Val Loss: 0.4758\n",
      "Epoch [170/500], Loss: 0.4459, Val Loss: 0.4408\n",
      "Epoch [171/500], Loss: 0.4554, Val Loss: 0.4797\n",
      "Epoch [172/500], Loss: 0.4113, Val Loss: 0.4753\n",
      "Epoch [173/500], Loss: 0.4293, Val Loss: 0.4908\n",
      "Epoch [174/500], Loss: 0.5023, Val Loss: 0.4972\n",
      "Epoch [175/500], Loss: 0.4495, Val Loss: 0.4606\n",
      "Epoch [176/500], Loss: 0.4642, Val Loss: 0.4929\n",
      "Epoch [177/500], Loss: 0.4513, Val Loss: 0.4377\n",
      "Epoch [178/500], Loss: 0.4614, Val Loss: 0.4716\n",
      "Epoch [179/500], Loss: 0.4178, Val Loss: 0.5177\n",
      "Epoch [180/500], Loss: 0.4684, Val Loss: 0.4968\n",
      "Epoch [181/500], Loss: 0.4658, Val Loss: 0.4563\n",
      "Epoch [182/500], Loss: 0.4705, Val Loss: 0.5369\n",
      "Epoch [183/500], Loss: 0.4331, Val Loss: 0.5074\n",
      "Epoch [184/500], Loss: 0.4832, Val Loss: 0.4942\n",
      "Epoch [185/500], Loss: 0.4758, Val Loss: 0.5213\n",
      "Epoch [186/500], Loss: 0.4359, Val Loss: 0.5190\n",
      "Epoch [187/500], Loss: 0.4585, Val Loss: 0.5406\n",
      "Epoch [188/500], Loss: 0.4439, Val Loss: 0.4825\n",
      "Epoch [189/500], Loss: 0.4495, Val Loss: 0.5047\n",
      "Epoch [190/500], Loss: 0.4514, Val Loss: 0.4567\n",
      "Epoch [191/500], Loss: 0.4398, Val Loss: 0.4540\n",
      "Epoch [192/500], Loss: 0.4524, Val Loss: 0.4761\n",
      "Epoch [193/500], Loss: 0.4427, Val Loss: 0.5487\n",
      "Epoch [194/500], Loss: 0.4608, Val Loss: 0.5530\n",
      "Epoch [195/500], Loss: 0.4609, Val Loss: 0.4883\n",
      "Epoch [196/500], Loss: 0.4010, Val Loss: 0.5444\n",
      "Epoch [197/500], Loss: 0.4193, Val Loss: 0.5444\n",
      "Epoch [198/500], Loss: 0.4503, Val Loss: 0.4248\n",
      "Epoch [199/500], Loss: 0.4485, Val Loss: 0.4524\n",
      "Epoch [200/500], Loss: 0.4508, Val Loss: 0.5194\n",
      "Epoch [201/500], Loss: 0.4384, Val Loss: 0.5331\n",
      "Epoch [202/500], Loss: 0.4431, Val Loss: 0.5277\n",
      "Epoch [203/500], Loss: 0.4366, Val Loss: 0.5093\n",
      "Epoch [204/500], Loss: 0.4405, Val Loss: 0.4529\n",
      "Epoch [205/500], Loss: 0.4643, Val Loss: 0.5307\n",
      "Epoch [206/500], Loss: 0.4334, Val Loss: 0.5342\n",
      "Epoch [207/500], Loss: 0.4244, Val Loss: 0.5364\n",
      "Epoch [208/500], Loss: 0.4116, Val Loss: 0.5399\n",
      "Epoch [209/500], Loss: 0.4172, Val Loss: 0.4928\n",
      "Epoch [210/500], Loss: 0.4639, Val Loss: 0.4808\n",
      "Epoch [211/500], Loss: 0.4291, Val Loss: 0.5306\n",
      "Epoch [212/500], Loss: 0.4340, Val Loss: 0.4636\n",
      "Epoch [213/500], Loss: 0.4505, Val Loss: 0.5320\n",
      "Epoch [214/500], Loss: 0.4349, Val Loss: 0.5359\n",
      "Epoch [215/500], Loss: 0.4275, Val Loss: 0.4483\n",
      "Epoch [216/500], Loss: 0.4445, Val Loss: 0.5130\n",
      "Epoch [217/500], Loss: 0.4541, Val Loss: 0.4914\n",
      "Epoch [218/500], Loss: 0.4169, Val Loss: 0.5061\n",
      "Epoch [219/500], Loss: 0.4495, Val Loss: 0.4826\n",
      "Epoch [220/500], Loss: 0.4263, Val Loss: 0.5576\n",
      "Epoch [221/500], Loss: 0.4164, Val Loss: 0.4942\n",
      "Epoch [222/500], Loss: 0.4601, Val Loss: 0.5592\n",
      "Epoch [223/500], Loss: 0.4687, Val Loss: 0.5267\n",
      "Epoch [224/500], Loss: 0.4284, Val Loss: 0.5162\n",
      "Epoch [225/500], Loss: 0.4224, Val Loss: 0.5018\n",
      "Epoch [226/500], Loss: 0.4200, Val Loss: 0.4600\n",
      "Epoch [227/500], Loss: 0.4263, Val Loss: 0.5683\n",
      "Epoch [228/500], Loss: 0.4307, Val Loss: 0.5213\n",
      "Epoch [229/500], Loss: 0.4373, Val Loss: 0.5598\n",
      "Epoch [230/500], Loss: 0.4523, Val Loss: 0.5694\n",
      "Epoch [231/500], Loss: 0.4289, Val Loss: 0.5620\n",
      "Epoch [232/500], Loss: 0.4425, Val Loss: 0.5514\n",
      "Epoch [233/500], Loss: 0.4587, Val Loss: 0.4667\n",
      "Epoch [234/500], Loss: 0.4017, Val Loss: 0.4921\n",
      "Epoch [235/500], Loss: 0.4493, Val Loss: 0.4532\n",
      "Epoch [236/500], Loss: 0.4203, Val Loss: 0.5488\n",
      "Epoch [237/500], Loss: 0.4203, Val Loss: 0.5408\n",
      "Epoch [238/500], Loss: 0.4096, Val Loss: 0.5106\n",
      "Epoch [239/500], Loss: 0.4475, Val Loss: 0.5975\n",
      "Epoch [240/500], Loss: 0.4258, Val Loss: 0.4979\n",
      "Epoch [241/500], Loss: 0.4268, Val Loss: 0.4799\n",
      "Epoch [242/500], Loss: 0.4153, Val Loss: 0.4913\n",
      "Epoch [243/500], Loss: 0.4449, Val Loss: 0.6160\n",
      "Epoch [244/500], Loss: 0.4339, Val Loss: 0.6031\n",
      "Epoch [245/500], Loss: 0.4301, Val Loss: 0.5839\n",
      "Epoch [246/500], Loss: 0.4284, Val Loss: 0.4616\n",
      "Epoch [247/500], Loss: 0.4357, Val Loss: 0.6036\n",
      "Epoch [248/500], Loss: 0.4243, Val Loss: 0.5868\n",
      "Epoch [249/500], Loss: 0.4344, Val Loss: 0.4453\n",
      "Epoch [250/500], Loss: 0.4177, Val Loss: 0.5166\n",
      "Epoch [251/500], Loss: 0.4175, Val Loss: 0.5545\n",
      "Epoch [252/500], Loss: 0.4071, Val Loss: 0.5182\n",
      "Epoch [253/500], Loss: 0.4287, Val Loss: 0.5583\n",
      "Epoch [254/500], Loss: 0.4356, Val Loss: 0.5555\n",
      "Epoch [255/500], Loss: 0.4497, Val Loss: 0.5028\n",
      "Epoch [256/500], Loss: 0.4250, Val Loss: 0.4726\n",
      "Epoch [257/500], Loss: 0.4112, Val Loss: 0.5080\n",
      "Epoch [258/500], Loss: 0.4252, Val Loss: 0.5609\n",
      "Epoch [259/500], Loss: 0.4349, Val Loss: 0.4933\n",
      "Epoch [260/500], Loss: 0.4183, Val Loss: 0.5452\n",
      "Epoch [261/500], Loss: 0.4473, Val Loss: 0.5559\n",
      "Epoch [262/500], Loss: 0.4331, Val Loss: 0.5786\n",
      "Early stopping at epoch 262\n"
     ]
    }
   ],
   "source": [
    "for epoch in range(epochs):\n",
    "    model1.train()\n",
    "    epoch_loss = 0.0\n",
    "\n",
    "    for batch_X, batch_y in train_loader1:\n",
    "        batch_y = batch_y.long()\n",
    "        outputs = model1(batch_X)\n",
    "        loss1 = loss_function(outputs, batch_y)\n",
    "        optimizer1.zero_grad()\n",
    "        loss1.backward()\n",
    "        optimizer1.step()\n",
    "\n",
    "        epoch_loss += loss1.item()\n",
    "    stochastic_learning_loss.append(epoch_loss/len(train_loader1))\n",
    "\n",
    "    # Validation step After training\n",
    "    val_loss = 0.0\n",
    "    model1.eval()\n",
    "\n",
    "    with torch.no_grad():\n",
    "        for batch_X, batch_y in test_loader1:\n",
    "            outputs = model1(batch_X)\n",
    "            loss1 = loss_function(outputs, batch_y.long())\n",
    "            val_loss += loss1.item()\n",
    "        val_loss/=len(test_loader1)\n",
    "        stochastic_validation_loss.append(val_loss)\n",
    "\n",
    "    print(f'Epoch [{epoch+1}/{epochs}], Loss: {epoch_loss/len(train_loader1):.4f}, Val Loss: {val_loss:.4f}')\n",
    "\n",
    "    # Early Stopping Logic\n",
    "    if val_loss < best_loss:\n",
    "        best_loss = val_loss\n",
    "        counter = 0\n",
    "        torch.save(model1.state_dict(), 'best_model1.pth')\n",
    "    else:\n",
    "        counter += 1\n",
    "        if counter >= patience:\n",
    "            print(f'Early stopping at epoch {epoch+1}')\n",
    "            break\n"
   ]
  },
  {
   "cell_type": "code",
   "execution_count": 84,
   "id": "6z3apCDWdV5H",
   "metadata": {
    "id": "6z3apCDWdV5H"
   },
   "outputs": [
    {
     "data": {
      "text/plain": [
       "<All keys matched successfully>"
      ]
     },
     "execution_count": 84,
     "metadata": {},
     "output_type": "execute_result"
    }
   ],
   "source": [
    "# Loading best model parameters\n",
    "model1.load_state_dict(torch.load('best_model1.pth'))"
   ]
  },
  {
   "cell_type": "code",
   "execution_count": 85,
   "id": "s2eieYc7dWL-",
   "metadata": {
    "id": "s2eieYc7dWL-"
   },
   "outputs": [
    {
     "name": "stdout",
     "output_type": "stream",
     "text": [
      "Confusion Matrix:\n",
      " tensor([[178,   6,   0],\n",
      "        [ 36, 147,   0],\n",
      "        [  0,  55, 118]])\n"
     ]
    },
    {
     "data": {
      "image/png": "[encoded data removed]",
      "text/plain": [
       "<Figure size 500x400 with 2 Axes>"
      ]
     },
     "metadata": {},
     "output_type": "display_data"
    },
    {
     "name": "stdout",
     "output_type": "stream",
     "text": [
      "Accuracy: 0.8204\n",
      "Precision: 0.8462\n",
      "Recall: 0.8176\n",
      "F1 Score: 0.8191\n"
     ]
    }
   ],
   "source": [
    "model1.eval()\n",
    "\n",
    "y_true = y_test_tensor.long()\n",
    "y_pred = torch.max(model1(compressed_test_tensor).data,1)[1]\n",
    "\n",
    "num_classes = 3\n",
    "\n",
    "# Computing confusion matrix\n",
    "conf_matrix = ConfusionMatrix(task=\"multiclass\", num_classes=num_classes)\n",
    "print(\"Confusion Matrix:\\n\", conf_matrix(y_pred, y_true))\n",
    "cm = conf_matrix(y_pred, y_true).cpu().numpy()\n",
    "\n",
    "# Plotting using Seaborn\n",
    "plt.figure(figsize=(5, 4))\n",
    "sns.heatmap(cm, annot=True, fmt=\"d\", cmap=\"Blues\", xticklabels=[\"Class 0\", \"Class 1\",\"Class 2\"], yticklabels=[\"Class 2\", \"Class 1\" ,\"Class 0\"])\n",
    "plt.xlabel(\"Predicted Label\")\n",
    "plt.ylabel(\"True Label\")\n",
    "plt.title(\"Confusion Matrix\")\n",
    "plt.show()\n",
    "\n",
    "# Computing evaluation metrics\n",
    "accuracy = Accuracy(task=\"multiclass\", num_classes=num_classes)\n",
    "precision = Precision(task=\"multiclass\", num_classes=num_classes, average='macro')\n",
    "recall = Recall(task=\"multiclass\", num_classes=num_classes, average='macro')\n",
    "f1_score = F1Score(task=\"multiclass\", num_classes=num_classes, average='macro')\n",
    "\n",
    "print(f\"Accuracy: {accuracy(y_pred, y_true):.4f}\")\n",
    "print(f\"Precision: {precision(y_pred, y_true):.4f}\")\n",
    "print(f\"Recall: {recall(y_pred, y_true):.4f}\")\n",
    "print(f\"F1 Score: {f1_score(y_pred, y_true):.4f}\")\n"
   ]
  },
  {
   "cell_type": "code",
   "execution_count": 86,
   "id": "Zz4ccvzCjpEx",
   "metadata": {
    "id": "Zz4ccvzCjpEx"
   },
   "outputs": [
    {
     "data": {
      "image/png": "[encoded data removed]",
      "text/plain": [
       "<Figure size 640x480 with 1 Axes>"
      ]
     },
     "metadata": {},
     "output_type": "display_data"
    }
   ],
   "source": [
    "plt.plot(stochastic_learning_loss, label='stochastic_learning_loss', color='violet')\n",
    "plt.plot(stochastic_validation_loss, label='stochastic_validation_loss', color='orange')\n",
    "\n",
    "plt.xlabel('Epochs')\n",
    "plt.ylabel('Loss')\n",
    "plt.title('Training & Validation Loss')\n",
    "plt.legend()\n",
    "plt.grid()\n",
    "plt.show()"
   ]
  }
 ],
 "metadata": {
  "accelerator": "GPU",
  "colab": {
   "gpuType": "T4",
   "provenance": []
  },
  "kernelspec": {
   "display_name": "Python 3 (ipykernel)",
   "language": "python",
   "name": "python3"
  },
  "language_info": {
   "codemirror_mode": {
    "name": "ipython",
    "version": 3
   },
   "file_extension": ".py",
   "mimetype": "text/x-python",
   "name": "python",
   "nbconvert_exporter": "python",
   "pygments_lexer": "ipython3",
   "version": "3.11.5"
  }
 },
 "nbformat": 4,
 "nbformat_minor": 5
}
